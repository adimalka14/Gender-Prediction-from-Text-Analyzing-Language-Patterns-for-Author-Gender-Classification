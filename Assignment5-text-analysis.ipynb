{
 "cells": [
  {
   "cell_type": "markdown",
   "metadata": {},
   "source": [
    "# Assignment 5 - Text Analysis\n",
    "An explanation this assignment could be found in the .pdf explanation document"
   ]
  },
  {
   "cell_type": "markdown",
   "metadata": {},
   "source": [
    "\n",
    "## Materials to review for this assignment\n",
    "<h4>From Moodle:</h4> \n",
    "<h5><u>Review the notebooks regarding the following python topics</u>:</h5>\n",
    "<div class=\"alert alert-info\">\n",
    "&#x2714; <b>Working with strings</b> (tutorial notebook)<br/>\n",
    "&#x2714; <b>Text Analysis</b> (tutorial notebook)<br/>\n",
    "&#x2714; <b>Hebrew text analysis tools (tokenizer, wordnet)</b> (moodle example)<br/>\n",
    "&#x2714; <b>(brief review) All previous notebooks</b><br/>\n",
    "</div> \n",
    "<h5><u>Review the presentations regarding the following topics</u>:</h5>\n",
    "<div class=\"alert alert-info\">\n",
    "&#x2714; <b>Text Analysis</b> (lecture presentation)<br/>\n",
    "&#x2714; <b>(brief review) All other presentations</b><br/>\n",
    "</div>"
   ]
  },
  {
   "cell_type": "markdown",
   "metadata": {},
   "source": [
    "## Preceding Step - import modules (packages)\n",
    "This step is necessary in order to use external modules (packages). <br/>"
   ]
  },
  {
   "cell_type": "code",
   "execution_count": 2,
   "metadata": {},
   "outputs": [],
   "source": [
    "# --------------------------------------\n",
    "import pandas as pd\n",
    "import numpy as np\n",
    "# --------------------------------------\n",
    "\n",
    "\n",
    "# --------------------------------------\n",
    "# ------------- visualizations:\n",
    "import seaborn as sns\n",
    "import matplotlib.pyplot as plt\n",
    "from matplotlib.colors import ListedColormap\n",
    "# --------------------------------------\n",
    "\n",
    "\n",
    "# ---------------------------------------\n",
    "import sklearn\n",
    "from sklearn import preprocessing, metrics, pipeline, model_selection, feature_extraction \n",
    "from sklearn import naive_bayes, linear_model, svm, neural_network, neighbors, tree\n",
    "from sklearn import decomposition, cluster\n",
    "\n",
    "from sklearn.model_selection import train_test_split, cross_val_score, GridSearchCV \n",
    "from sklearn.pipeline import Pipeline\n",
    "from sklearn.metrics import accuracy_score, confusion_matrix\n",
    "from sklearn.metrics import precision_score, recall_score, f1_score\n",
    "from sklearn.metrics import mean_squared_error, r2_score, silhouette_score\n",
    "from sklearn.preprocessing import MinMaxScaler, StandardScaler, LabelEncoder\n",
    "\n",
    "from sklearn.svm import LinearSVC\n",
    "from sklearn.neural_network import MLPClassifier\n",
    "from sklearn.linear_model import Perceptron, SGDClassifier\n",
    "from sklearn.decomposition import PCA\n",
    "from sklearn.cluster import KMeans\n",
    "from sklearn.naive_bayes import MultinomialNB, GaussianNB\n",
    "from sklearn.neighbors import KNeighborsClassifier\n",
    "from sklearn.tree import DecisionTreeClassifier\n",
    "# ---------------------------------------\n",
    "\n",
    "\n",
    "# ----------------- output and visualizations: \n",
    "import warnings\n",
    "from sklearn.exceptions import ConvergenceWarning\n",
    "warnings.simplefilter(\"ignore\")\n",
    "warnings.simplefilter(action='ignore', category=FutureWarning)\n",
    "warnings.simplefilter(\"ignore\", category=ConvergenceWarning)\n",
    "# show several prints in one cell. This will allow us to condence every trick in one cell.\n",
    "from IPython.core.interactiveshell import InteractiveShell\n",
    "InteractiveShell.ast_node_interactivity = \"all\"\n",
    "%matplotlib inline\n",
    "pd.pandas.set_option('display.max_columns', None)\n",
    "pd.set_option('display.float_format', lambda x: '%.3f' % x)\n",
    "# ---------------------------------------"
   ]
  },
  {
   "cell_type": "markdown",
   "metadata": {},
   "source": [
    "### Text analysis and String manipulation imports:"
   ]
  },
  {
   "cell_type": "code",
   "execution_count": 3,
   "metadata": {},
   "outputs": [],
   "source": [
    "# --------------------------------------\n",
    "# --------- Text analysis and Hebrew text analysis imports:\n",
    "# vectorizers:\n",
    "from sklearn.feature_extraction import text\n",
    "from sklearn.feature_extraction.text import CountVectorizer, TfidfVectorizer\n",
    "\n",
    "# regular expressions:\n",
    "import re\n",
    "# --------------------------------------"
   ]
  },
  {
   "cell_type": "markdown",
   "metadata": {},
   "source": [
    "### (optional) Hebrew text analysis - WordNet (for Hebrew)\n",
    "Note: the WordNet is not a must"
   ]
  },
  {
   "cell_type": "markdown",
   "metadata": {},
   "source": [
    "#### (optional) Only if you didn't install Wordnet (for Hebrew) use:"
   ]
  },
  {
   "cell_type": "code",
   "execution_count": 4,
   "metadata": {},
   "outputs": [],
   "source": [
    "# word net installation:\n",
    "\n",
    "# unmark if you want to use and need to install\n",
    "#!pip install wn\n",
    "#!python -m wn download omw-he:1.4"
   ]
  },
  {
   "cell_type": "code",
   "execution_count": 5,
   "metadata": {},
   "outputs": [],
   "source": [
    "# word net import:\n",
    "\n",
    "# unmark if you want to use:\n",
    "#import wn"
   ]
  },
  {
   "cell_type": "markdown",
   "metadata": {},
   "source": [
    "### (optional) Hebrew text analysis - hebrew_tokenizer (Tokenizer for Hebrew)\n",
    "Note: the hebrew_tokenizer is not a must"
   ]
  },
  {
   "cell_type": "markdown",
   "metadata": {},
   "source": [
    "#### (optional) Only if you didn't install hebrew_tokenizer use:"
   ]
  },
  {
   "cell_type": "code",
   "execution_count": 6,
   "metadata": {},
   "outputs": [],
   "source": [
    "# Hebrew tokenizer installation:\n",
    "\n",
    "# unmark if you want to use and need to install:\n",
    "#!pip install hebrew_tokenizer"
   ]
  },
  {
   "cell_type": "code",
   "execution_count": 7,
   "metadata": {},
   "outputs": [],
   "source": [
    "# Hebrew tokenizer import:\n",
    "\n",
    "# unmark if you want to use:\n",
    "#import hebrew_tokenizer as ht"
   ]
  },
  {
   "cell_type": "markdown",
   "metadata": {},
   "source": [
    "### Reading input files\n",
    "Reading input files for train annotated corpus (raw text data) corpus and for the test corpus"
   ]
  },
  {
   "cell_type": "code",
   "execution_count": 8,
   "metadata": {},
   "outputs": [],
   "source": [
    "train_filename = 'annotated_corpus_for_train.csv'\n",
    "test_filename  = 'corpus_for_test.csv'\n",
    "df_train = pd.read_csv(train_filename, index_col=None, encoding='utf-8')\n",
    "df_test  = pd.read_csv(test_filename, index_col=None, encoding='utf-8')"
   ]
  },
  {
   "cell_type": "code",
   "execution_count": 9,
   "metadata": {
    "scrolled": true
   },
   "outputs": [
    {
     "data": {
      "text/html": [
       "<div>\n",
       "<style scoped>\n",
       "    .dataframe tbody tr th:only-of-type {\n",
       "        vertical-align: middle;\n",
       "    }\n",
       "\n",
       "    .dataframe tbody tr th {\n",
       "        vertical-align: top;\n",
       "    }\n",
       "\n",
       "    .dataframe thead th {\n",
       "        text-align: right;\n",
       "    }\n",
       "</style>\n",
       "<table border=\"1\" class=\"dataframe\">\n",
       "  <thead>\n",
       "    <tr style=\"text-align: right;\">\n",
       "      <th></th>\n",
       "      <th>story</th>\n",
       "      <th>gender</th>\n",
       "    </tr>\n",
       "  </thead>\n",
       "  <tbody>\n",
       "    <tr>\n",
       "      <th>0</th>\n",
       "      <td>כשחבר הזמין אותי לחול, לא באמת חשבתי שזה יקרה,...</td>\n",
       "      <td>m</td>\n",
       "    </tr>\n",
       "    <tr>\n",
       "      <th>1</th>\n",
       "      <td>לפני שהתגייסתי לצבא עשיתי כל מני מיונים ליחידו...</td>\n",
       "      <td>m</td>\n",
       "    </tr>\n",
       "    <tr>\n",
       "      <th>2</th>\n",
       "      <td>מאז שהתחילו הלימודים חלומו של כל סטודנט זה הפנ...</td>\n",
       "      <td>f</td>\n",
       "    </tr>\n",
       "    <tr>\n",
       "      <th>3</th>\n",
       "      <td>כשהייתי ילד, מטוסים היה הדבר שהכי ריתק אותי. ב...</td>\n",
       "      <td>m</td>\n",
       "    </tr>\n",
       "    <tr>\n",
       "      <th>4</th>\n",
       "      <td>‏הייתי מדריכה בכפר נוער ומתאם הכפר היינו צריכי...</td>\n",
       "      <td>f</td>\n",
       "    </tr>\n",
       "    <tr>\n",
       "      <th>5</th>\n",
       "      <td>לפני כ3 חודשים טסתי לרומא למשך שבוע. טסתי במטו...</td>\n",
       "      <td>f</td>\n",
       "    </tr>\n",
       "    <tr>\n",
       "      <th>6</th>\n",
       "      <td>אני כבר שנתיים נשוי והשנה אני ואישתי סוף סוף י...</td>\n",
       "      <td>m</td>\n",
       "    </tr>\n",
       "    <tr>\n",
       "      <th>7</th>\n",
       "      <td>השנה התחלנו שיפוץ בדירה שלנו בתל אביב. הדירה ה...</td>\n",
       "      <td>f</td>\n",
       "    </tr>\n",
       "  </tbody>\n",
       "</table>\n",
       "</div>"
      ],
      "text/plain": [
       "                                               story gender\n",
       "0  כשחבר הזמין אותי לחול, לא באמת חשבתי שזה יקרה,...      m\n",
       "1  לפני שהתגייסתי לצבא עשיתי כל מני מיונים ליחידו...      m\n",
       "2  מאז שהתחילו הלימודים חלומו של כל סטודנט זה הפנ...      f\n",
       "3  כשהייתי ילד, מטוסים היה הדבר שהכי ריתק אותי. ב...      m\n",
       "4  ‏הייתי מדריכה בכפר נוער ומתאם הכפר היינו צריכי...      f\n",
       "5  לפני כ3 חודשים טסתי לרומא למשך שבוע. טסתי במטו...      f\n",
       "6  אני כבר שנתיים נשוי והשנה אני ואישתי סוף סוף י...      m\n",
       "7  השנה התחלנו שיפוץ בדירה שלנו בתל אביב. הדירה ה...      f"
      ]
     },
     "execution_count": 9,
     "metadata": {},
     "output_type": "execute_result"
    },
    {
     "data": {
      "text/plain": [
       "(753, 2)"
      ]
     },
     "execution_count": 9,
     "metadata": {},
     "output_type": "execute_result"
    }
   ],
   "source": [
    "df_train.head(8)\n",
    "df_train.shape"
   ]
  },
  {
   "cell_type": "code",
   "execution_count": 10,
   "metadata": {},
   "outputs": [
    {
     "data": {
      "text/html": [
       "<div>\n",
       "<style scoped>\n",
       "    .dataframe tbody tr th:only-of-type {\n",
       "        vertical-align: middle;\n",
       "    }\n",
       "\n",
       "    .dataframe tbody tr th {\n",
       "        vertical-align: top;\n",
       "    }\n",
       "\n",
       "    .dataframe thead th {\n",
       "        text-align: right;\n",
       "    }\n",
       "</style>\n",
       "<table border=\"1\" class=\"dataframe\">\n",
       "  <thead>\n",
       "    <tr style=\"text-align: right;\">\n",
       "      <th></th>\n",
       "      <th>test_example_id</th>\n",
       "      <th>story</th>\n",
       "    </tr>\n",
       "  </thead>\n",
       "  <tbody>\n",
       "    <tr>\n",
       "      <th>0</th>\n",
       "      <td>0</td>\n",
       "      <td>כל קיץ אני והמשפחה נוסעים לארצות הברית לוס אנג...</td>\n",
       "    </tr>\n",
       "    <tr>\n",
       "      <th>1</th>\n",
       "      <td>1</td>\n",
       "      <td>הגעתי לשירות המדינה אחרי שנתיים כפעיל בתנועת \"...</td>\n",
       "    </tr>\n",
       "    <tr>\n",
       "      <th>2</th>\n",
       "      <td>2</td>\n",
       "      <td>אחת האהבות הגדולות שלי אלו הכלבים שלי ושל אישת...</td>\n",
       "    </tr>\n",
       "  </tbody>\n",
       "</table>\n",
       "</div>"
      ],
      "text/plain": [
       "   test_example_id                                              story\n",
       "0                0  כל קיץ אני והמשפחה נוסעים לארצות הברית לוס אנג...\n",
       "1                1  הגעתי לשירות המדינה אחרי שנתיים כפעיל בתנועת \"...\n",
       "2                2  אחת האהבות הגדולות שלי אלו הכלבים שלי ושל אישת..."
      ]
     },
     "execution_count": 10,
     "metadata": {},
     "output_type": "execute_result"
    },
    {
     "data": {
      "text/plain": [
       "(323, 2)"
      ]
     },
     "execution_count": 10,
     "metadata": {},
     "output_type": "execute_result"
    },
    {
     "data": {
      "text/plain": [
       "m    575\n",
       "f    178\n",
       "Name: gender, dtype: int64"
      ]
     },
     "execution_count": 10,
     "metadata": {},
     "output_type": "execute_result"
    }
   ],
   "source": [
    "df_test.head(3)\n",
    "df_test.shape\n",
    "df_train['gender'].value_counts()"
   ]
  },
  {
   "cell_type": "markdown",
   "metadata": {},
   "source": [
    "* The data frame is unbalanced, with significantly more female samples than male samples.\n",
    "* We will explore how to address this issue further."
   ]
  },
  {
   "cell_type": "markdown",
   "metadata": {},
   "source": [
    "### Your implementation:\n",
    "Write your code solution in the following code-cells"
   ]
  },
  {
   "cell_type": "code",
   "execution_count": 11,
   "metadata": {},
   "outputs": [
    {
     "data": {
      "text/html": [
       "<div>\n",
       "<style scoped>\n",
       "    .dataframe tbody tr th:only-of-type {\n",
       "        vertical-align: middle;\n",
       "    }\n",
       "\n",
       "    .dataframe tbody tr th {\n",
       "        vertical-align: top;\n",
       "    }\n",
       "\n",
       "    .dataframe thead th {\n",
       "        text-align: right;\n",
       "    }\n",
       "</style>\n",
       "<table border=\"1\" class=\"dataframe\">\n",
       "  <thead>\n",
       "    <tr style=\"text-align: right;\">\n",
       "      <th></th>\n",
       "      <th>story</th>\n",
       "      <th>gender</th>\n",
       "    </tr>\n",
       "  </thead>\n",
       "  <tbody>\n",
       "    <tr>\n",
       "      <th>0</th>\n",
       "      <td>כשחבר הזמין אותי לחול, לא באמת חשבתי שזה יקרה,...</td>\n",
       "      <td>m</td>\n",
       "    </tr>\n",
       "    <tr>\n",
       "      <th>1</th>\n",
       "      <td>לפני שהתגייסתי לצבא עשיתי כל מני מיונים ליחידו...</td>\n",
       "      <td>m</td>\n",
       "    </tr>\n",
       "    <tr>\n",
       "      <th>2</th>\n",
       "      <td>מאז שהתחילו הלימודים חלומו של כל סטודנט זה הפנ...</td>\n",
       "      <td>f</td>\n",
       "    </tr>\n",
       "    <tr>\n",
       "      <th>3</th>\n",
       "      <td>כשהייתי ילד, מטוסים היה הדבר שהכי ריתק אותי. ב...</td>\n",
       "      <td>m</td>\n",
       "    </tr>\n",
       "    <tr>\n",
       "      <th>4</th>\n",
       "      <td>‏הייתי מדריכה בכפר נוער ומתאם הכפר היינו צריכי...</td>\n",
       "      <td>f</td>\n",
       "    </tr>\n",
       "    <tr>\n",
       "      <th>...</th>\n",
       "      <td>...</td>\n",
       "      <td>...</td>\n",
       "    </tr>\n",
       "    <tr>\n",
       "      <th>748</th>\n",
       "      <td>אז לפני שנה בדיוק טסתי לאמסטרדם עם שני חברים ט...</td>\n",
       "      <td>m</td>\n",
       "    </tr>\n",
       "    <tr>\n",
       "      <th>749</th>\n",
       "      <td>שבוע שעבר העליתי באופן ספונטני רעיון לנסוע עם ...</td>\n",
       "      <td>m</td>\n",
       "    </tr>\n",
       "    <tr>\n",
       "      <th>750</th>\n",
       "      <td>לפני חודש עברנו לדירה בבית שמש בעקבות משפחתי ה...</td>\n",
       "      <td>m</td>\n",
       "    </tr>\n",
       "    <tr>\n",
       "      <th>751</th>\n",
       "      <td>החוויה אותה ארצה לשתף התרחשה לפני כמה חודשים, ...</td>\n",
       "      <td>f</td>\n",
       "    </tr>\n",
       "    <tr>\n",
       "      <th>752</th>\n",
       "      <td>פעם כשהייתי בחו\" \"ל ,בקבולומביה כחלק מהטיול של...</td>\n",
       "      <td>m</td>\n",
       "    </tr>\n",
       "  </tbody>\n",
       "</table>\n",
       "<p>753 rows × 2 columns</p>\n",
       "</div>"
      ],
      "text/plain": [
       "                                                 story gender\n",
       "0    כשחבר הזמין אותי לחול, לא באמת חשבתי שזה יקרה,...      m\n",
       "1    לפני שהתגייסתי לצבא עשיתי כל מני מיונים ליחידו...      m\n",
       "2    מאז שהתחילו הלימודים חלומו של כל סטודנט זה הפנ...      f\n",
       "3    כשהייתי ילד, מטוסים היה הדבר שהכי ריתק אותי. ב...      m\n",
       "4    ‏הייתי מדריכה בכפר נוער ומתאם הכפר היינו צריכי...      f\n",
       "..                                                 ...    ...\n",
       "748  אז לפני שנה בדיוק טסתי לאמסטרדם עם שני חברים ט...      m\n",
       "749  שבוע שעבר העליתי באופן ספונטני רעיון לנסוע עם ...      m\n",
       "750  לפני חודש עברנו לדירה בבית שמש בעקבות משפחתי ה...      m\n",
       "751  החוויה אותה ארצה לשתף התרחשה לפני כמה חודשים, ...      f\n",
       "752  פעם כשהייתי בחו\" \"ל ,בקבולומביה כחלק מהטיול של...      m\n",
       "\n",
       "[753 rows x 2 columns]"
      ]
     },
     "execution_count": 11,
     "metadata": {},
     "output_type": "execute_result"
    }
   ],
   "source": [
    "df_train"
   ]
  },
  {
   "cell_type": "code",
   "execution_count": 12,
   "metadata": {},
   "outputs": [
    {
     "data": {
      "text/html": [
       "<div>\n",
       "<style scoped>\n",
       "    .dataframe tbody tr th:only-of-type {\n",
       "        vertical-align: middle;\n",
       "    }\n",
       "\n",
       "    .dataframe tbody tr th {\n",
       "        vertical-align: top;\n",
       "    }\n",
       "\n",
       "    .dataframe thead th {\n",
       "        text-align: right;\n",
       "    }\n",
       "</style>\n",
       "<table border=\"1\" class=\"dataframe\">\n",
       "  <thead>\n",
       "    <tr style=\"text-align: right;\">\n",
       "      <th></th>\n",
       "      <th>story</th>\n",
       "      <th>gender</th>\n",
       "    </tr>\n",
       "  </thead>\n",
       "  <tbody>\n",
       "    <tr>\n",
       "      <th>0</th>\n",
       "      <td>כשחבר הזמין אותי לחול לא באמת חשבתי שזה יקרה פ...</td>\n",
       "      <td>1</td>\n",
       "    </tr>\n",
       "    <tr>\n",
       "      <th>1</th>\n",
       "      <td>לפני שהתגייסתי לצבא עשיתי כל מני מיונים ליחידו...</td>\n",
       "      <td>1</td>\n",
       "    </tr>\n",
       "    <tr>\n",
       "      <th>2</th>\n",
       "      <td>מאז שהתחילו הלימודים חלומו של כל סטודנט זה הפנ...</td>\n",
       "      <td>0</td>\n",
       "    </tr>\n",
       "    <tr>\n",
       "      <th>3</th>\n",
       "      <td>כשהייתי ילד מטוסים היה הדבר שהכי ריתק אותי בתו...</td>\n",
       "      <td>1</td>\n",
       "    </tr>\n",
       "    <tr>\n",
       "      <th>4</th>\n",
       "      <td>הייתי מדריכה בכפר נוער ומתאם הכפר היינו צריכים...</td>\n",
       "      <td>0</td>\n",
       "    </tr>\n",
       "    <tr>\n",
       "      <th>...</th>\n",
       "      <td>...</td>\n",
       "      <td>...</td>\n",
       "    </tr>\n",
       "    <tr>\n",
       "      <th>748</th>\n",
       "      <td>אז לפני שנה בדיוק טסתי לאמסטרדם עם שני חברים ט...</td>\n",
       "      <td>1</td>\n",
       "    </tr>\n",
       "    <tr>\n",
       "      <th>749</th>\n",
       "      <td>שבוע שעבר העליתי באופן ספונטני רעיון לנסוע עם ...</td>\n",
       "      <td>1</td>\n",
       "    </tr>\n",
       "    <tr>\n",
       "      <th>750</th>\n",
       "      <td>לפני חודש עברנו לדירה בבית שמש בעקבות משפחתי ה...</td>\n",
       "      <td>1</td>\n",
       "    </tr>\n",
       "    <tr>\n",
       "      <th>751</th>\n",
       "      <td>החוויה אותה ארצה לשתף התרחשה לפני כמה חודשים ז...</td>\n",
       "      <td>0</td>\n",
       "    </tr>\n",
       "    <tr>\n",
       "      <th>752</th>\n",
       "      <td>פעם כשהייתי בחו ל בקבולומביה כחלק מהטיול שלי ל...</td>\n",
       "      <td>1</td>\n",
       "    </tr>\n",
       "  </tbody>\n",
       "</table>\n",
       "<p>753 rows × 2 columns</p>\n",
       "</div>"
      ],
      "text/plain": [
       "                                                 story  gender\n",
       "0    כשחבר הזמין אותי לחול לא באמת חשבתי שזה יקרה פ...       1\n",
       "1    לפני שהתגייסתי לצבא עשיתי כל מני מיונים ליחידו...       1\n",
       "2    מאז שהתחילו הלימודים חלומו של כל סטודנט זה הפנ...       0\n",
       "3    כשהייתי ילד מטוסים היה הדבר שהכי ריתק אותי בתו...       1\n",
       "4    הייתי מדריכה בכפר נוער ומתאם הכפר היינו צריכים...       0\n",
       "..                                                 ...     ...\n",
       "748  אז לפני שנה בדיוק טסתי לאמסטרדם עם שני חברים ט...       1\n",
       "749  שבוע שעבר העליתי באופן ספונטני רעיון לנסוע עם ...       1\n",
       "750  לפני חודש עברנו לדירה בבית שמש בעקבות משפחתי ה...       1\n",
       "751  החוויה אותה ארצה לשתף התרחשה לפני כמה חודשים ז...       0\n",
       "752  פעם כשהייתי בחו ל בקבולומביה כחלק מהטיול שלי ל...       1\n",
       "\n",
       "[753 rows x 2 columns]"
      ]
     },
     "execution_count": 12,
     "metadata": {},
     "output_type": "execute_result"
    }
   ],
   "source": [
    "# מחיקת תווים מיוחדים \n",
    "df_train['story'] = df_train['story'].apply(lambda x: re.sub(r'[^\\u0590-\\u05FF\\s]', '', x))\n",
    "  \n",
    "df_train['gender'].replace('f',0,inplace=True)\n",
    "df_train['gender'].replace('m',1,inplace=True)\n",
    "\n",
    "df_test['story'] =df_test['story'].apply(lambda x: re.sub(r'[^\\u0590-\\u05FF\\s]', '', x))\n",
    "\n",
    "df_train"
   ]
  },
  {
   "cell_type": "code",
   "execution_count": 14,
   "metadata": {},
   "outputs": [],
   "source": [
    "X=df_train['story']\n",
    "y=df_train['gender']"
   ]
  },
  {
   "cell_type": "markdown",
   "metadata": {},
   "source": [
    "# Split data into training and testing sets\n",
    "X_train, X_test, y_train, y_test = train_test_split(df_train['story'],df_train['gender'], test_size=0.2, random_state=42)"
   ]
  },
  {
   "cell_type": "code",
   "execution_count": 15,
   "metadata": {},
   "outputs": [],
   "source": [
    "# define the vectorizers\n",
    "vectorizers = [CountVectorizer(), TfidfVectorizer()]"
   ]
  },
  {
   "cell_type": "code",
   "execution_count": 16,
   "metadata": {},
   "outputs": [],
   "source": [
    "# Define the models and parameters\n",
    "models = [\n",
    "    # LinearSVC\n",
    "    [LinearSVC(),\n",
    "     {'clf__C': [0.01, 0.1, 1, 10, 100], 'clf__penalty': ['l1', 'l2'], 'clf__class_weight': [None, 'balanced']}],\n",
    "\n",
    "    # Perceptron\n",
    "    [Perceptron(),\n",
    "     {'clf__alpha': [0.0001, 0.001, 0.01, 0.1], 'clf__penalty': ['l2', 'l1', 'elasticnet'], 'clf__class_weight': [None, 'balanced']}],\n",
    "\n",
    "    # SGDClassifier\n",
    "    [SGDClassifier(),\n",
    "     {'clf__alpha': [0.001, 0.05, 0.1], 'clf__loss': ['hinge', 'squared_hinge'], 'clf__class_weight': [None, 'balanced']}],\n",
    "\n",
    "    # MultinomialNB\n",
    "    [MultinomialNB(),\n",
    "     {'clf__alpha': [0.1, 0.5, 1, 10]}],\n",
    "\n",
    "   # KNeighborsClassifier\n",
    "    [KNeighborsClassifier(),\n",
    "     {'clf__n_neighbors': [3, 5, 7, 9], 'clf__weights': ['uniform', 'distance']}],\n",
    "\n",
    "    # DecisionTreeClassifier\n",
    "    [DecisionTreeClassifier(),\n",
    "     {'clf__max_depth': [5, 10, 20, None], 'clf__min_samples_split': [2, 5, 10], 'clf__min_samples_leaf': [1, 2, 4],\n",
    "      'clf__class_weight': [None, {0: 1, 1: 10}]}]\n",
    "]\n"
   ]
  },
  {
   "cell_type": "markdown",
   "metadata": {},
   "source": [
    "\n",
    "# Use GridSearchCV to find the best parameters for each classifier\n"
   ]
  },
  {
   "cell_type": "code",
   "execution_count": 19,
   "metadata": {},
   "outputs": [],
   "source": [
    "from sklearn.model_selection import StratifiedKFold"
   ]
  },
  {
   "cell_type": "code",
   "execution_count": 20,
   "metadata": {},
   "outputs": [],
   "source": [
    "def evaluate_model(model, parameters, X, y, vectorizer):\n",
    "    skf = StratifiedKFold(n_splits=10)\n",
    "    \n",
    "    param_grid = {\n",
    "        'vect__max_features': [10_000, 30_000, 40_000],\n",
    "        'vect__ngram_range': [(1, 1), (1, 2), (1, 3)],\n",
    "        'vect__min_df': [1, 3],\n",
    "        'vect__max_df': [0.7, 0.9],\n",
    "        **parameters\n",
    "    }\n",
    "\n",
    "    pipeline = Pipeline([('vect', vectorizer), ('clf', model)])\n",
    "    grid_search = GridSearchCV(pipeline, param_grid, cv=skf, scoring='f1_macro')\n",
    "    grid_search.fit(X, y)\n",
    "\n",
    "    results_df = pd.DataFrame(grid_search.cv_results_)\n",
    "\n",
    "    print(\"Model Type: \", type(model).__name__)\n",
    "    print(\"Vectorizer Type: \", type(vect).__name__)\n",
    "\n",
    "\n",
    "    print()\n",
    "    print(\"Best hyperparameters: %s\" % grid_search.best_params_)\n",
    "    print(\"Cross-validation score: %0.2f\" % grid_search.best_score_)\n",
    "    print(\"********************************************************\")\n",
    "\n",
    "\n",
    "    best_model = grid_search.best_estimator_\n",
    "\n",
    "    return best_model"
   ]
  },
  {
   "cell_type": "markdown",
   "metadata": {},
   "source": [
    "# LinearSVC"
   ]
  },
  {
   "cell_type": "code",
   "execution_count": 21,
   "metadata": {},
   "outputs": [
    {
     "name": "stdout",
     "output_type": "stream",
     "text": [
      "Model Type:  LinearSVC\n",
      "Vectorizer Type:  CountVectorizer\n",
      "\n",
      "Best hyperparameters: {'clf__C': 0.01, 'clf__class_weight': 'balanced', 'clf__penalty': 'l2', 'vect__max_df': 0.9, 'vect__max_features': 10000, 'vect__min_df': 3, 'vect__ngram_range': (1, 1)}\n",
      "Cross-validation score: 0.70\n",
      "********************************************************\n"
     ]
    }
   ],
   "source": [
    "clf=models[0][0]\n",
    "param=models[0][1]\n",
    "vect=vectorizers[0]\n",
    "best_model_1=evaluate_model(clf,param,X,y,vect)"
   ]
  },
  {
   "cell_type": "code",
   "execution_count": 22,
   "metadata": {},
   "outputs": [
    {
     "name": "stdout",
     "output_type": "stream",
     "text": [
      "Model Type:  LinearSVC\n",
      "Vectorizer Type:  TfidfVectorizer\n",
      "\n",
      "Best hyperparameters: {'clf__C': 0.01, 'clf__class_weight': 'balanced', 'clf__penalty': 'l2', 'vect__max_df': 0.9, 'vect__max_features': 10000, 'vect__min_df': 3, 'vect__ngram_range': (1, 2)}\n",
      "Cross-validation score: 0.70\n",
      "********************************************************\n"
     ]
    }
   ],
   "source": [
    "vect=vectorizers[1]\n",
    "best_model_2=evaluate_model(clf,param,X,y,vect)"
   ]
  },
  {
   "cell_type": "markdown",
   "metadata": {},
   "source": [
    "# Perceptron "
   ]
  },
  {
   "cell_type": "code",
   "execution_count": 23,
   "metadata": {},
   "outputs": [
    {
     "name": "stdout",
     "output_type": "stream",
     "text": [
      "Model Type:  Perceptron\n",
      "Vectorizer Type:  CountVectorizer\n",
      "\n",
      "Best hyperparameters: {'clf__alpha': 0.0001, 'clf__class_weight': 'balanced', 'clf__penalty': 'l1', 'vect__max_df': 0.9, 'vect__max_features': 10000, 'vect__min_df': 3, 'vect__ngram_range': (1, 3)}\n",
      "Cross-validation score: 0.71\n",
      "********************************************************\n"
     ]
    }
   ],
   "source": [
    "clf=models[1][0]\n",
    "vect=vectorizers[0]\n",
    "best_model_3=evaluate_model(clf,models[1][1],X,y,vect)"
   ]
  },
  {
   "cell_type": "code",
   "execution_count": 24,
   "metadata": {},
   "outputs": [
    {
     "name": "stdout",
     "output_type": "stream",
     "text": [
      "Model Type:  Perceptron\n",
      "Vectorizer Type:  TfidfVectorizer\n",
      "\n",
      "Best hyperparameters: {'clf__alpha': 0.0001, 'clf__class_weight': 'balanced', 'clf__penalty': 'elasticnet', 'vect__max_df': 0.9, 'vect__max_features': 30000, 'vect__min_df': 3, 'vect__ngram_range': (1, 2)}\n",
      "Cross-validation score: 0.71\n",
      "********************************************************\n"
     ]
    }
   ],
   "source": [
    "vect=vectorizers[1]\n",
    "best_model_4=evaluate_model(clf,models[1][1],X,y,vect)"
   ]
  },
  {
   "cell_type": "markdown",
   "metadata": {},
   "source": [
    "# SGDClassifier"
   ]
  },
  {
   "cell_type": "code",
   "execution_count": 25,
   "metadata": {},
   "outputs": [
    {
     "name": "stdout",
     "output_type": "stream",
     "text": [
      "Model Type:  SGDClassifier\n",
      "Vectorizer Type:  CountVectorizer\n",
      "\n",
      "Best hyperparameters: {'clf__alpha': 0.05, 'clf__class_weight': 'balanced', 'clf__loss': 'hinge', 'vect__max_df': 0.9, 'vect__max_features': 30000, 'vect__min_df': 3, 'vect__ngram_range': (1, 3)}\n",
      "Cross-validation score: 0.72\n",
      "********************************************************\n",
      "Model Type:  SGDClassifier\n",
      "Vectorizer Type:  TfidfVectorizer\n",
      "\n",
      "Best hyperparameters: {'clf__alpha': 0.05, 'clf__class_weight': 'balanced', 'clf__loss': 'squared_hinge', 'vect__max_df': 0.7, 'vect__max_features': 40000, 'vect__min_df': 3, 'vect__ngram_range': (1, 1)}\n",
      "Cross-validation score: 0.71\n",
      "********************************************************\n"
     ]
    }
   ],
   "source": [
    "clf=models[2][0]\n",
    "vect=vectorizers[0]\n",
    "best_model_5=evaluate_model(clf,models[2][1],X,y,vect)\n",
    "\n",
    "vect=vectorizers[1]\n",
    "best_model_6=evaluate_model(clf,models[2][1],X,y,vect)"
   ]
  },
  {
   "cell_type": "markdown",
   "metadata": {},
   "source": [
    "# MultinomialNB"
   ]
  },
  {
   "cell_type": "code",
   "execution_count": 26,
   "metadata": {},
   "outputs": [
    {
     "name": "stdout",
     "output_type": "stream",
     "text": [
      "Model Type:  MultinomialNB\n",
      "Vectorizer Type:  CountVectorizer\n",
      "\n",
      "Best hyperparameters: {'clf__alpha': 0.5, 'vect__max_df': 0.9, 'vect__max_features': 10000, 'vect__min_df': 1, 'vect__ngram_range': (1, 2)}\n",
      "Cross-validation score: 0.70\n",
      "********************************************************\n",
      "Model Type:  MultinomialNB\n",
      "Vectorizer Type:  TfidfVectorizer\n",
      "\n",
      "Best hyperparameters: {'clf__alpha': 0.1, 'vect__max_df': 0.7, 'vect__max_features': 10000, 'vect__min_df': 3, 'vect__ngram_range': (1, 3)}\n",
      "Cross-validation score: 0.54\n",
      "********************************************************\n"
     ]
    }
   ],
   "source": [
    "clf=models[3][0]\n",
    "vect=vectorizers[0]\n",
    "best_model_7=evaluate_model(clf,models[3][1],X,y,vect)\n",
    "\n",
    "vect=vectorizers[1]\n",
    "best_model_8=evaluate_model(clf,models[3][1],X,y,vect)"
   ]
  },
  {
   "cell_type": "markdown",
   "metadata": {},
   "source": [
    "# KNeighborsClassifier"
   ]
  },
  {
   "cell_type": "code",
   "execution_count": 27,
   "metadata": {},
   "outputs": [
    {
     "name": "stdout",
     "output_type": "stream",
     "text": [
      "Model Type:  KNeighborsClassifier\n",
      "Vectorizer Type:  CountVectorizer\n",
      "\n",
      "Best hyperparameters: {'clf__n_neighbors': 5, 'clf__weights': 'distance', 'vect__max_df': 0.9, 'vect__max_features': 30000, 'vect__min_df': 1, 'vect__ngram_range': (1, 3)}\n",
      "Cross-validation score: 0.55\n",
      "********************************************************\n",
      "Model Type:  KNeighborsClassifier\n",
      "Vectorizer Type:  TfidfVectorizer\n",
      "\n",
      "Best hyperparameters: {'clf__n_neighbors': 5, 'clf__weights': 'distance', 'vect__max_df': 0.9, 'vect__max_features': 30000, 'vect__min_df': 1, 'vect__ngram_range': (1, 3)}\n",
      "Cross-validation score: 0.63\n",
      "********************************************************\n"
     ]
    }
   ],
   "source": [
    "clf=models[4][0]\n",
    "vect=vectorizers[0]\n",
    "best_model_9=evaluate_model(clf,models[4][1],X,y,vect)\n",
    "\n",
    "vect=vectorizers[1]\n",
    "best_model_10=evaluate_model(clf,models[4][1],X,y,vect)"
   ]
  },
  {
   "cell_type": "markdown",
   "metadata": {},
   "source": [
    "# DecisionTreeClassifier"
   ]
  },
  {
   "cell_type": "code",
   "execution_count": 28,
   "metadata": {},
   "outputs": [
    {
     "name": "stdout",
     "output_type": "stream",
     "text": [
      "Model Type:  DecisionTreeClassifier\n",
      "Vectorizer Type:  CountVectorizer\n",
      "\n",
      "Best hyperparameters: {'clf__class_weight': {0: 1, 1: 10}, 'clf__max_depth': None, 'clf__min_samples_leaf': 2, 'clf__min_samples_split': 10, 'vect__max_df': 0.9, 'vect__max_features': 30000, 'vect__min_df': 3, 'vect__ngram_range': (1, 2)}\n",
      "Cross-validation score: 0.73\n",
      "********************************************************\n",
      "Model Type:  DecisionTreeClassifier\n",
      "Vectorizer Type:  TfidfVectorizer\n",
      "\n",
      "Best hyperparameters: {'clf__class_weight': {0: 1, 1: 10}, 'clf__max_depth': None, 'clf__min_samples_leaf': 1, 'clf__min_samples_split': 5, 'vect__max_df': 0.7, 'vect__max_features': 40000, 'vect__min_df': 1, 'vect__ngram_range': (1, 3)}\n",
      "Cross-validation score: 0.71\n",
      "********************************************************\n"
     ]
    }
   ],
   "source": [
    "clf=models[5][0]\n",
    "vect=vectorizers[0]\n",
    "best_model_11=evaluate_model(clf,models[5][1],X,y,vect)\n",
    "\n",
    "vect=vectorizers[1]\n",
    "best_model_12=evaluate_model(clf,models[5][1],X,y,vect)"
   ]
  },
  {
   "cell_type": "markdown",
   "metadata": {},
   "source": [
    "# LogisticRegression"
   ]
  },
  {
   "cell_type": "code",
   "execution_count": 29,
   "metadata": {},
   "outputs": [
    {
     "name": "stdout",
     "output_type": "stream",
     "text": [
      "Model Type:  LogisticRegression\n",
      "Vectorizer Type:  CountVectorizer\n",
      "\n",
      "Best hyperparameters: {'clf__C': 0.01, 'clf__class_weight': 'balanced', 'vect__max_df': 0.9, 'vect__max_features': 10000, 'vect__min_df': 3, 'vect__ngram_range': (1, 3)}\n",
      "Cross-validation score: 0.70\n",
      "********************************************************\n",
      "Model Type:  LogisticRegression\n",
      "Vectorizer Type:  TfidfVectorizer\n",
      "\n",
      "Best hyperparameters: {'clf__C': 0.1, 'clf__class_weight': 'balanced', 'vect__max_df': 0.9, 'vect__max_features': 10000, 'vect__min_df': 3, 'vect__ngram_range': (1, 1)}\n",
      "Cross-validation score: 0.70\n",
      "********************************************************\n"
     ]
    }
   ],
   "source": [
    "from sklearn.linear_model import LogisticRegression\n",
    "clf=LogisticRegression()\n",
    "param={'clf__C': [0.01, 0.1, 1, 10],\n",
    "       'clf__class_weight': [None,'balanced']}\n",
    "\n",
    "vect=vectorizers[0]\n",
    "best_model_13=evaluate_model(clf,param,X,y,vect)\n",
    "\n",
    "vect=vectorizers[1]\n",
    "best_model_14=evaluate_model(clf,param,X,y,vect)"
   ]
  },
  {
   "cell_type": "code",
   "execution_count": 100,
   "metadata": {},
   "outputs": [
    {
     "data": {
      "text/plain": [
       "Pipeline(steps=[('vect',\n",
       "                 CountVectorizer(max_df=0.9, max_features=30000, min_df=3,\n",
       "                                 ngram_range=(1, 2))),\n",
       "                ('clf',\n",
       "                 DecisionTreeClassifier(class_weight={0: 1, 1: 10},\n",
       "                                        min_samples_leaf=2,\n",
       "                                        min_samples_split=10))])"
      ]
     },
     "execution_count": 100,
     "metadata": {},
     "output_type": "execute_result"
    },
    {
     "data": {
      "text/plain": [
       "array([0.72291667, 0.78711485, 0.68449328, 0.73570073, 0.66124661,\n",
       "       0.80137712, 0.76165254, 0.72192797, 0.70760234, 0.70833333])"
      ]
     },
     "execution_count": 100,
     "metadata": {},
     "output_type": "execute_result"
    },
    {
     "name": "stdout",
     "output_type": "stream",
     "text": [
      "Mean F1 Score: 0.73\n",
      "Standard Deviation: 0.04\n"
     ]
    }
   ],
   "source": [
    "best_model=best_model_11\n",
    "best_model\n",
    "skf=StratifiedKFold(n_splits=10)\n",
    "\n",
    "f1_scores = cross_val_score(best_model, X, y, cv=skf, scoring='f1_macro')\n",
    "\n",
    "mean_f1_score = np.mean(f1_scores)\n",
    "\n",
    "std_dev = np.std(f1_scores)\n",
    "f1_scores\n",
    "\n",
    "print(\"Mean F1 Score:\", round(mean_f1_score, 2))\n",
    "print(\"Standard Deviation:\", round(std_dev, 2))"
   ]
  },
  {
   "cell_type": "markdown",
   "metadata": {},
   "source": [
    "# result"
   ]
  },
  {
   "cell_type": "markdown",
   "metadata": {},
   "source": [
    "# best model\n",
    "## DecisionTreeClassifier   \n",
    "### The model was built using the following parameters:\n",
    "\n",
    "### CountVectorizer with the following settings:\n",
    "\n",
    "* max_df: 0.9\n",
    "* max_features: 30000\n",
    "* min_df: 3\n",
    "* ngram_range: (1, 2)\n",
    "\n",
    "### DecisionTreeClassifier  with the following settings:\n",
    "\n",
    "* class_weight={0: 1, 1: 10}\n",
    "* min_samples_leaf=2\n",
    "* min_samples_split=10\n",
    "\n",
    "#### These parameter choices allow for an improved representation of the text by focusing on important words and assigning higher value to words that appear in the current document and in other documents in the corpus."
   ]
  },
  {
   "cell_type": "markdown",
   "metadata": {},
   "source": [
    "## StratifiedKFold\n",
    "\n",
    "#### StratifiedKFold is a useful method for performing cross-validation on datasets with imbalanced class distributions. It ensures that each fold contains a proportional representation of samples from each class, which helps in obtaining reliable and unbiased performance estimates for the model. By using StratifiedKFold, you can assess the model's stability and generalization capabilities more accurately."
   ]
  },
  {
   "cell_type": "markdown",
   "metadata": {},
   "source": [
    "#### The F1 scores obtained from the cross-validation are as follows:\n",
    "* [0.72291667, 0.78711485, 0.68449328, 0.73570073, 0.66124661, 0.80137712, 0.76165254, 0.72192797, 0.70760234, 0.70833333]\n",
    "\n",
    "#### The mean F1 score is 0.73, indicating the average performance of the model across the different folds. The standard deviation is 0.04, which represents the variability or spread of the F1 scores.\n",
    "\n",
    "### Overall, this model demonstrates stable performance with a relatively high mean F1 score and a moderate standard deviation.\n",
    "##### Further analysis and iterations are recommended to fine-tune the model and address the class imbalance issue in order to achieve better results."
   ]
  },
  {
   "cell_type": "markdown",
   "metadata": {},
   "source": [
    "# predict "
   ]
  },
  {
   "cell_type": "code",
   "execution_count": 105,
   "metadata": {},
   "outputs": [],
   "source": [
    "df_test_tokenized = df_test.copy()\n",
    "y_predict_test=best_model.predict(df_test_tokenized['story'])\n",
    "df_test['gender']=y_predict_test\n",
    "df_test['gender'].replace(0,'f',inplace=True)\n",
    "df_test['gender'].replace(1,'m',inplace=True)"
   ]
  },
  {
   "cell_type": "code",
   "execution_count": 112,
   "metadata": {},
   "outputs": [
    {
     "data": {
      "text/html": [
       "<div>\n",
       "<style scoped>\n",
       "    .dataframe tbody tr th:only-of-type {\n",
       "        vertical-align: middle;\n",
       "    }\n",
       "\n",
       "    .dataframe tbody tr th {\n",
       "        vertical-align: top;\n",
       "    }\n",
       "\n",
       "    .dataframe thead th {\n",
       "        text-align: right;\n",
       "    }\n",
       "</style>\n",
       "<table border=\"1\" class=\"dataframe\">\n",
       "  <thead>\n",
       "    <tr style=\"text-align: right;\">\n",
       "      <th></th>\n",
       "      <th>story</th>\n",
       "      <th>gender</th>\n",
       "    </tr>\n",
       "  </thead>\n",
       "  <tbody>\n",
       "    <tr>\n",
       "      <th>0</th>\n",
       "      <td>כל קיץ אני והמשפחה נוסעים לארצות הברית לוס אנג...</td>\n",
       "      <td>m</td>\n",
       "    </tr>\n",
       "    <tr>\n",
       "      <th>1</th>\n",
       "      <td>הגעתי לשירות המדינה אחרי שנתיים כפעיל בתנועת י...</td>\n",
       "      <td>m</td>\n",
       "    </tr>\n",
       "    <tr>\n",
       "      <th>2</th>\n",
       "      <td>אחת האהבות הגדולות שלי אלו הכלבים שלי ושל אישת...</td>\n",
       "      <td>m</td>\n",
       "    </tr>\n",
       "    <tr>\n",
       "      <th>3</th>\n",
       "      <td>רגע הגיוס לצבא היה הרגע הכי משמעותי עבורי אני ...</td>\n",
       "      <td>m</td>\n",
       "    </tr>\n",
       "    <tr>\n",
       "      <th>4</th>\n",
       "      <td>אני הגעתי לברזיל ישר מקולומביה וגם אני עשיתי ע...</td>\n",
       "      <td>m</td>\n",
       "    </tr>\n",
       "    <tr>\n",
       "      <th>...</th>\n",
       "      <td>...</td>\n",
       "      <td>...</td>\n",
       "    </tr>\n",
       "    <tr>\n",
       "      <th>318</th>\n",
       "      <td>בשנה האחרונה הרגשתי די תקוע בעבודה השגרה הפכה ...</td>\n",
       "      <td>m</td>\n",
       "    </tr>\n",
       "    <tr>\n",
       "      <th>319</th>\n",
       "      <td>אני ואילן חברים טובים מזה  שנה תמיד חלמנו לפתח...</td>\n",
       "      <td>m</td>\n",
       "    </tr>\n",
       "    <tr>\n",
       "      <th>320</th>\n",
       "      <td>מידי יום שישי אני נוהג לנסוע בתחבורה ציבורית ס...</td>\n",
       "      <td>f</td>\n",
       "    </tr>\n",
       "    <tr>\n",
       "      <th>321</th>\n",
       "      <td>לפני מספר חודשים בשיא התחלואה של הגל השני עמית...</td>\n",
       "      <td>m</td>\n",
       "    </tr>\n",
       "    <tr>\n",
       "      <th>322</th>\n",
       "      <td>היום בו דיווחתי על גניבה של האוטו שלי בוקר אחד...</td>\n",
       "      <td>m</td>\n",
       "    </tr>\n",
       "  </tbody>\n",
       "</table>\n",
       "<p>323 rows × 2 columns</p>\n",
       "</div>"
      ],
      "text/plain": [
       "                                                 story gender\n",
       "0    כל קיץ אני והמשפחה נוסעים לארצות הברית לוס אנג...      m\n",
       "1    הגעתי לשירות המדינה אחרי שנתיים כפעיל בתנועת י...      m\n",
       "2    אחת האהבות הגדולות שלי אלו הכלבים שלי ושל אישת...      m\n",
       "3    רגע הגיוס לצבא היה הרגע הכי משמעותי עבורי אני ...      m\n",
       "4    אני הגעתי לברזיל ישר מקולומביה וגם אני עשיתי ע...      m\n",
       "..                                                 ...    ...\n",
       "318  בשנה האחרונה הרגשתי די תקוע בעבודה השגרה הפכה ...      m\n",
       "319  אני ואילן חברים טובים מזה  שנה תמיד חלמנו לפתח...      m\n",
       "320  מידי יום שישי אני נוהג לנסוע בתחבורה ציבורית ס...      f\n",
       "321  לפני מספר חודשים בשיא התחלואה של הגל השני עמית...      m\n",
       "322  היום בו דיווחתי על גניבה של האוטו שלי בוקר אחד...      m\n",
       "\n",
       "[323 rows x 2 columns]"
      ]
     },
     "execution_count": 112,
     "metadata": {},
     "output_type": "execute_result"
    }
   ],
   "source": [
    "df_predicted=df_test.copy()\n",
    "df_predicted.loc[:,['story','gender']]"
   ]
  },
  {
   "cell_type": "markdown",
   "metadata": {},
   "source": [
    "### Save output to csv (optional)\n",
    "After you're done save your output to the 'classification_results.csv' csv file.<br/>\n",
    "We assume that the dataframe with your results contain the following columns:\n",
    "* column 1 (left column): 'test_example_id'  - the same id associated to each of the test stories to be predicted.\n",
    "* column 2 (right column): 'predicted_category' - the predicted gender value for each of the associated story. \n",
    "\n",
    "Assuming your predicted values are in the `df_predicted` dataframe, you should save you're results as following:"
   ]
  },
  {
   "cell_type": "code",
   "execution_count": 113,
   "metadata": {},
   "outputs": [],
   "source": [
    "df_predicted.to_csv('classification_results.csv',index=False)"
   ]
  }
 ],
 "metadata": {
  "celltoolbar": "Create Assignment",
  "kernelspec": {
   "display_name": "Python 3 (ipykernel)",
   "language": "python",
   "name": "python3"
  },
  "language_info": {
   "codemirror_mode": {
    "name": "ipython",
    "version": 3
   },
   "file_extension": ".py",
   "mimetype": "text/x-python",
   "name": "python",
   "nbconvert_exporter": "python",
   "pygments_lexer": "ipython3",
   "version": "3.9.12"
  }
 },
 "nbformat": 4,
 "nbformat_minor": 4
}
