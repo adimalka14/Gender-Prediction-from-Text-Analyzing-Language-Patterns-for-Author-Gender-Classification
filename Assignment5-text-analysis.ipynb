{
 "cells": [
  {
   "cell_type": "markdown",
   "metadata": {},
   "source": [
    "# Assignment 5 - Text Analysis\n",
    "An explanation this assignment could be found in the .pdf explanation document"
   ]
  },
  {
   "cell_type": "markdown",
   "metadata": {},
   "source": [
    "\n",
    "## Materials to review for this assignment\n",
    "<h4>From Moodle:</h4> \n",
    "<h5><u>Review the notebooks regarding the following python topics</u>:</h5>\n",
    "<div class=\"alert alert-info\">\n",
    "&#x2714; <b>Working with strings</b> (tutorial notebook)<br/>\n",
    "&#x2714; <b>Text Analysis</b> (tutorial notebook)<br/>\n",
    "&#x2714; <b>Hebrew text analysis tools (tokenizer, wordnet)</b> (moodle example)<br/>\n",
    "&#x2714; <b>(brief review) All previous notebooks</b><br/>\n",
    "</div> \n",
    "<h5><u>Review the presentations regarding the following topics</u>:</h5>\n",
    "<div class=\"alert alert-info\">\n",
    "&#x2714; <b>Text Analysis</b> (lecture presentation)<br/>\n",
    "&#x2714; <b>(brief review) All other presentations</b><br/>\n",
    "</div>"
   ]
  },
  {
   "cell_type": "markdown",
   "metadata": {},
   "source": [
    "## Preceding Step - import modules (packages)\n",
    "This step is necessary in order to use external modules (packages). <br/>"
   ]
  },
  {
   "cell_type": "code",
   "execution_count": 1,
   "metadata": {},
   "outputs": [],
   "source": [
    "# --------------------------------------\n",
    "import pandas as pd\n",
    "import numpy as np\n",
    "# --------------------------------------\n",
    "\n",
    "\n",
    "# --------------------------------------\n",
    "# ------------- visualizations:\n",
    "import seaborn as sns\n",
    "import matplotlib.pyplot as plt\n",
    "from matplotlib.colors import ListedColormap\n",
    "# --------------------------------------\n",
    "\n",
    "\n",
    "# ---------------------------------------\n",
    "import sklearn\n",
    "from sklearn import preprocessing, metrics, pipeline, model_selection, feature_extraction \n",
    "from sklearn import naive_bayes, linear_model, svm, neural_network, neighbors, tree\n",
    "from sklearn import decomposition, cluster\n",
    "\n",
    "from sklearn.model_selection import train_test_split, cross_val_score, GridSearchCV \n",
    "from sklearn.pipeline import Pipeline\n",
    "from sklearn.metrics import accuracy_score, confusion_matrix\n",
    "from sklearn.metrics import precision_score, recall_score, f1_score\n",
    "from sklearn.metrics import mean_squared_error, r2_score, silhouette_score\n",
    "from sklearn.preprocessing import MinMaxScaler, StandardScaler, LabelEncoder\n",
    "\n",
    "from sklearn.svm import LinearSVC\n",
    "from sklearn.neural_network import MLPClassifier\n",
    "from sklearn.linear_model import Perceptron, SGDClassifier\n",
    "from sklearn.decomposition import PCA\n",
    "from sklearn.cluster import KMeans\n",
    "from sklearn.naive_bayes import MultinomialNB, GaussianNB\n",
    "from sklearn.neighbors import KNeighborsClassifier\n",
    "from sklearn.tree import DecisionTreeClassifier\n",
    "# ---------------------------------------\n",
    "\n",
    "\n",
    "# ----------------- output and visualizations: \n",
    "import warnings\n",
    "from sklearn.exceptions import ConvergenceWarning\n",
    "warnings.simplefilter(\"ignore\")\n",
    "warnings.simplefilter(action='ignore', category=FutureWarning)\n",
    "warnings.simplefilter(\"ignore\", category=ConvergenceWarning)\n",
    "# show several prints in one cell. This will allow us to condence every trick in one cell.\n",
    "from IPython.core.interactiveshell import InteractiveShell\n",
    "InteractiveShell.ast_node_interactivity = \"all\"\n",
    "%matplotlib inline\n",
    "pd.pandas.set_option('display.max_columns', None)\n",
    "pd.set_option('display.float_format', lambda x: '%.3f' % x)\n",
    "# ---------------------------------------"
   ]
  },
  {
   "cell_type": "markdown",
   "metadata": {},
   "source": [
    "### Text analysis and String manipulation imports:"
   ]
  },
  {
   "cell_type": "code",
   "execution_count": 2,
   "metadata": {},
   "outputs": [],
   "source": [
    "# --------------------------------------\n",
    "# --------- Text analysis and Hebrew text analysis imports:\n",
    "# vectorizers:\n",
    "from sklearn.feature_extraction import text\n",
    "from sklearn.feature_extraction.text import CountVectorizer, TfidfVectorizer\n",
    "\n",
    "# regular expressions:\n",
    "import re\n",
    "# --------------------------------------"
   ]
  },
  {
   "cell_type": "markdown",
   "metadata": {},
   "source": [
    "### (optional) Hebrew text analysis - WordNet (for Hebrew)\n",
    "Note: the WordNet is not a must"
   ]
  },
  {
   "cell_type": "markdown",
   "metadata": {},
   "source": [
    "#### (optional) Only if you didn't install Wordnet (for Hebrew) use:"
   ]
  },
  {
   "cell_type": "code",
   "execution_count": 3,
   "metadata": {},
   "outputs": [],
   "source": [
    "# word net installation:\n",
    "\n",
    "# unmark if you want to use and need to install\n",
    "#!pip install wn\n",
    "#!python -m wn download omw-he:1.4"
   ]
  },
  {
   "cell_type": "code",
   "execution_count": 4,
   "metadata": {},
   "outputs": [],
   "source": [
    "# word net import:\n",
    "\n",
    "# unmark if you want to use:\n",
    "#import wn"
   ]
  },
  {
   "cell_type": "markdown",
   "metadata": {},
   "source": [
    "### (optional) Hebrew text analysis - hebrew_tokenizer (Tokenizer for Hebrew)\n",
    "Note: the hebrew_tokenizer is not a must"
   ]
  },
  {
   "cell_type": "markdown",
   "metadata": {},
   "source": [
    "#### (optional) Only if you didn't install hebrew_tokenizer use:"
   ]
  },
  {
   "cell_type": "code",
   "execution_count": 5,
   "metadata": {},
   "outputs": [],
   "source": [
    "# Hebrew tokenizer installation:\n",
    "\n",
    "# unmark if you want to use and need to install:\n",
    "#!pip install hebrew_tokenizer"
   ]
  },
  {
   "cell_type": "code",
   "execution_count": 6,
   "metadata": {},
   "outputs": [
    {
     "name": "stdout",
     "output_type": "stream",
     "text": [
      "C:\\Users\\ASUS\\Desktop\\pythonYupiter\\למידת מכונה\\מטלה 5\n"
     ]
    }
   ],
   "source": [
    "# Hebrew tokenizer import:\n",
    "\n",
    "# unmark if you want to use:\n",
    "#import hebrew_tokenizer as ht"
   ]
  },
  {
   "cell_type": "markdown",
   "metadata": {},
   "source": [
    "### Reading input files\n",
    "Reading input files for train annotated corpus (raw text data) corpus and for the test corpus"
   ]
  },
  {
   "cell_type": "code",
   "execution_count": 7,
   "metadata": {},
   "outputs": [],
   "source": [
    "train_filename = 'annotated_corpus_for_train.csv'\n",
    "test_filename  = 'corpus_for_test.csv'\n",
    "df_train = pd.read_csv(train_filename, index_col=None, encoding='utf-8')\n",
    "df_test  = pd.read_csv(test_filename, index_col=None, encoding='utf-8')"
   ]
  },
  {
   "cell_type": "code",
   "execution_count": 8,
   "metadata": {
    "scrolled": true
   },
   "outputs": [
    {
     "data": {
      "text/html": [
       "<div>\n",
       "<style scoped>\n",
       "    .dataframe tbody tr th:only-of-type {\n",
       "        vertical-align: middle;\n",
       "    }\n",
       "\n",
       "    .dataframe tbody tr th {\n",
       "        vertical-align: top;\n",
       "    }\n",
       "\n",
       "    .dataframe thead th {\n",
       "        text-align: right;\n",
       "    }\n",
       "</style>\n",
       "<table border=\"1\" class=\"dataframe\">\n",
       "  <thead>\n",
       "    <tr style=\"text-align: right;\">\n",
       "      <th></th>\n",
       "      <th>story</th>\n",
       "      <th>gender</th>\n",
       "    </tr>\n",
       "  </thead>\n",
       "  <tbody>\n",
       "    <tr>\n",
       "      <th>0</th>\n",
       "      <td>כשחבר הזמין אותי לחול, לא באמת חשבתי שזה יקרה,...</td>\n",
       "      <td>m</td>\n",
       "    </tr>\n",
       "    <tr>\n",
       "      <th>1</th>\n",
       "      <td>לפני שהתגייסתי לצבא עשיתי כל מני מיונים ליחידו...</td>\n",
       "      <td>m</td>\n",
       "    </tr>\n",
       "    <tr>\n",
       "      <th>2</th>\n",
       "      <td>מאז שהתחילו הלימודים חלומו של כל סטודנט זה הפנ...</td>\n",
       "      <td>f</td>\n",
       "    </tr>\n",
       "    <tr>\n",
       "      <th>3</th>\n",
       "      <td>כשהייתי ילד, מטוסים היה הדבר שהכי ריתק אותי. ב...</td>\n",
       "      <td>m</td>\n",
       "    </tr>\n",
       "    <tr>\n",
       "      <th>4</th>\n",
       "      <td>‏הייתי מדריכה בכפר נוער ומתאם הכפר היינו צריכי...</td>\n",
       "      <td>f</td>\n",
       "    </tr>\n",
       "    <tr>\n",
       "      <th>5</th>\n",
       "      <td>לפני כ3 חודשים טסתי לרומא למשך שבוע. טסתי במטו...</td>\n",
       "      <td>f</td>\n",
       "    </tr>\n",
       "    <tr>\n",
       "      <th>6</th>\n",
       "      <td>אני כבר שנתיים נשוי והשנה אני ואישתי סוף סוף י...</td>\n",
       "      <td>m</td>\n",
       "    </tr>\n",
       "    <tr>\n",
       "      <th>7</th>\n",
       "      <td>השנה התחלנו שיפוץ בדירה שלנו בתל אביב. הדירה ה...</td>\n",
       "      <td>f</td>\n",
       "    </tr>\n",
       "  </tbody>\n",
       "</table>\n",
       "</div>"
      ],
      "text/plain": [
       "                                               story gender\n",
       "0  כשחבר הזמין אותי לחול, לא באמת חשבתי שזה יקרה,...      m\n",
       "1  לפני שהתגייסתי לצבא עשיתי כל מני מיונים ליחידו...      m\n",
       "2  מאז שהתחילו הלימודים חלומו של כל סטודנט זה הפנ...      f\n",
       "3  כשהייתי ילד, מטוסים היה הדבר שהכי ריתק אותי. ב...      m\n",
       "4  ‏הייתי מדריכה בכפר נוער ומתאם הכפר היינו צריכי...      f\n",
       "5  לפני כ3 חודשים טסתי לרומא למשך שבוע. טסתי במטו...      f\n",
       "6  אני כבר שנתיים נשוי והשנה אני ואישתי סוף סוף י...      m\n",
       "7  השנה התחלנו שיפוץ בדירה שלנו בתל אביב. הדירה ה...      f"
      ]
     },
     "execution_count": 8,
     "metadata": {},
     "output_type": "execute_result"
    },
    {
     "data": {
      "text/plain": [
       "(753, 2)"
      ]
     },
     "execution_count": 8,
     "metadata": {},
     "output_type": "execute_result"
    }
   ],
   "source": [
    "df_train.head(8)\n",
    "df_train.shape"
   ]
  },
  {
   "cell_type": "code",
   "execution_count": 9,
   "metadata": {},
   "outputs": [
    {
     "data": {
      "text/html": [
       "<div>\n",
       "<style scoped>\n",
       "    .dataframe tbody tr th:only-of-type {\n",
       "        vertical-align: middle;\n",
       "    }\n",
       "\n",
       "    .dataframe tbody tr th {\n",
       "        vertical-align: top;\n",
       "    }\n",
       "\n",
       "    .dataframe thead th {\n",
       "        text-align: right;\n",
       "    }\n",
       "</style>\n",
       "<table border=\"1\" class=\"dataframe\">\n",
       "  <thead>\n",
       "    <tr style=\"text-align: right;\">\n",
       "      <th></th>\n",
       "      <th>test_example_id</th>\n",
       "      <th>story</th>\n",
       "    </tr>\n",
       "  </thead>\n",
       "  <tbody>\n",
       "    <tr>\n",
       "      <th>0</th>\n",
       "      <td>0</td>\n",
       "      <td>כל קיץ אני והמשפחה נוסעים לארצות הברית לוס אנג...</td>\n",
       "    </tr>\n",
       "    <tr>\n",
       "      <th>1</th>\n",
       "      <td>1</td>\n",
       "      <td>הגעתי לשירות המדינה אחרי שנתיים כפעיל בתנועת \"...</td>\n",
       "    </tr>\n",
       "    <tr>\n",
       "      <th>2</th>\n",
       "      <td>2</td>\n",
       "      <td>אחת האהבות הגדולות שלי אלו הכלבים שלי ושל אישת...</td>\n",
       "    </tr>\n",
       "  </tbody>\n",
       "</table>\n",
       "</div>"
      ],
      "text/plain": [
       "   test_example_id                                              story\n",
       "0                0  כל קיץ אני והמשפחה נוסעים לארצות הברית לוס אנג...\n",
       "1                1  הגעתי לשירות המדינה אחרי שנתיים כפעיל בתנועת \"...\n",
       "2                2  אחת האהבות הגדולות שלי אלו הכלבים שלי ושל אישת..."
      ]
     },
     "execution_count": 9,
     "metadata": {},
     "output_type": "execute_result"
    },
    {
     "data": {
      "text/plain": [
       "(323, 2)"
      ]
     },
     "execution_count": 9,
     "metadata": {},
     "output_type": "execute_result"
    },
    {
     "data": {
      "text/plain": [
       "m    575\n",
       "f    178\n",
       "Name: gender, dtype: int64"
      ]
     },
     "execution_count": 9,
     "metadata": {},
     "output_type": "execute_result"
    }
   ],
   "source": [
    "df_test.head(3)\n",
    "df_test.shape\n",
    "df_train['gender'].value_counts()"
   ]
  },
  {
   "cell_type": "markdown",
   "metadata": {},
   "source": [
    "* The data frame is unbalanced, with significantly more female samples than male samples.\n",
    "* We will explore how to address this issue further."
   ]
  },
  {
   "cell_type": "markdown",
   "metadata": {},
   "source": [
    "### Your implementation:\n",
    "Write your code solution in the following code-cells"
   ]
  },
  {
   "cell_type": "code",
   "execution_count": 10,
   "metadata": {},
   "outputs": [
    {
     "data": {
      "text/html": [
       "<div>\n",
       "<style scoped>\n",
       "    .dataframe tbody tr th:only-of-type {\n",
       "        vertical-align: middle;\n",
       "    }\n",
       "\n",
       "    .dataframe tbody tr th {\n",
       "        vertical-align: top;\n",
       "    }\n",
       "\n",
       "    .dataframe thead th {\n",
       "        text-align: right;\n",
       "    }\n",
       "</style>\n",
       "<table border=\"1\" class=\"dataframe\">\n",
       "  <thead>\n",
       "    <tr style=\"text-align: right;\">\n",
       "      <th></th>\n",
       "      <th>story</th>\n",
       "      <th>gender</th>\n",
       "    </tr>\n",
       "  </thead>\n",
       "  <tbody>\n",
       "    <tr>\n",
       "      <th>0</th>\n",
       "      <td>כשחבר הזמין אותי לחול, לא באמת חשבתי שזה יקרה,...</td>\n",
       "      <td>m</td>\n",
       "    </tr>\n",
       "    <tr>\n",
       "      <th>1</th>\n",
       "      <td>לפני שהתגייסתי לצבא עשיתי כל מני מיונים ליחידו...</td>\n",
       "      <td>m</td>\n",
       "    </tr>\n",
       "    <tr>\n",
       "      <th>2</th>\n",
       "      <td>מאז שהתחילו הלימודים חלומו של כל סטודנט זה הפנ...</td>\n",
       "      <td>f</td>\n",
       "    </tr>\n",
       "    <tr>\n",
       "      <th>3</th>\n",
       "      <td>כשהייתי ילד, מטוסים היה הדבר שהכי ריתק אותי. ב...</td>\n",
       "      <td>m</td>\n",
       "    </tr>\n",
       "    <tr>\n",
       "      <th>4</th>\n",
       "      <td>‏הייתי מדריכה בכפר נוער ומתאם הכפר היינו צריכי...</td>\n",
       "      <td>f</td>\n",
       "    </tr>\n",
       "    <tr>\n",
       "      <th>...</th>\n",
       "      <td>...</td>\n",
       "      <td>...</td>\n",
       "    </tr>\n",
       "    <tr>\n",
       "      <th>748</th>\n",
       "      <td>אז לפני שנה בדיוק טסתי לאמסטרדם עם שני חברים ט...</td>\n",
       "      <td>m</td>\n",
       "    </tr>\n",
       "    <tr>\n",
       "      <th>749</th>\n",
       "      <td>שבוע שעבר העליתי באופן ספונטני רעיון לנסוע עם ...</td>\n",
       "      <td>m</td>\n",
       "    </tr>\n",
       "    <tr>\n",
       "      <th>750</th>\n",
       "      <td>לפני חודש עברנו לדירה בבית שמש בעקבות משפחתי ה...</td>\n",
       "      <td>m</td>\n",
       "    </tr>\n",
       "    <tr>\n",
       "      <th>751</th>\n",
       "      <td>החוויה אותה ארצה לשתף התרחשה לפני כמה חודשים, ...</td>\n",
       "      <td>f</td>\n",
       "    </tr>\n",
       "    <tr>\n",
       "      <th>752</th>\n",
       "      <td>פעם כשהייתי בחו\" \"ל ,בקבולומביה כחלק מהטיול של...</td>\n",
       "      <td>m</td>\n",
       "    </tr>\n",
       "  </tbody>\n",
       "</table>\n",
       "<p>753 rows × 2 columns</p>\n",
       "</div>"
      ],
      "text/plain": [
       "                                                 story gender\n",
       "0    כשחבר הזמין אותי לחול, לא באמת חשבתי שזה יקרה,...      m\n",
       "1    לפני שהתגייסתי לצבא עשיתי כל מני מיונים ליחידו...      m\n",
       "2    מאז שהתחילו הלימודים חלומו של כל סטודנט זה הפנ...      f\n",
       "3    כשהייתי ילד, מטוסים היה הדבר שהכי ריתק אותי. ב...      m\n",
       "4    ‏הייתי מדריכה בכפר נוער ומתאם הכפר היינו צריכי...      f\n",
       "..                                                 ...    ...\n",
       "748  אז לפני שנה בדיוק טסתי לאמסטרדם עם שני חברים ט...      m\n",
       "749  שבוע שעבר העליתי באופן ספונטני רעיון לנסוע עם ...      m\n",
       "750  לפני חודש עברנו לדירה בבית שמש בעקבות משפחתי ה...      m\n",
       "751  החוויה אותה ארצה לשתף התרחשה לפני כמה חודשים, ...      f\n",
       "752  פעם כשהייתי בחו\" \"ל ,בקבולומביה כחלק מהטיול של...      m\n",
       "\n",
       "[753 rows x 2 columns]"
      ]
     },
     "execution_count": 10,
     "metadata": {},
     "output_type": "execute_result"
    }
   ],
   "source": [
    "df_train"
   ]
  },
  {
   "cell_type": "code",
   "execution_count": 11,
   "metadata": {},
   "outputs": [
    {
     "data": {
      "text/html": [
       "<div>\n",
       "<style scoped>\n",
       "    .dataframe tbody tr th:only-of-type {\n",
       "        vertical-align: middle;\n",
       "    }\n",
       "\n",
       "    .dataframe tbody tr th {\n",
       "        vertical-align: top;\n",
       "    }\n",
       "\n",
       "    .dataframe thead th {\n",
       "        text-align: right;\n",
       "    }\n",
       "</style>\n",
       "<table border=\"1\" class=\"dataframe\">\n",
       "  <thead>\n",
       "    <tr style=\"text-align: right;\">\n",
       "      <th></th>\n",
       "      <th>story</th>\n",
       "      <th>gender</th>\n",
       "    </tr>\n",
       "  </thead>\n",
       "  <tbody>\n",
       "    <tr>\n",
       "      <th>0</th>\n",
       "      <td>כשחבר הזמין אותי לחול לא באמת חשבתי שזה יקרה פ...</td>\n",
       "      <td>1</td>\n",
       "    </tr>\n",
       "    <tr>\n",
       "      <th>1</th>\n",
       "      <td>לפני שהתגייסתי לצבא עשיתי כל מני מיונים ליחידו...</td>\n",
       "      <td>1</td>\n",
       "    </tr>\n",
       "    <tr>\n",
       "      <th>2</th>\n",
       "      <td>מאז שהתחילו הלימודים חלומו של כל סטודנט זה הפנ...</td>\n",
       "      <td>0</td>\n",
       "    </tr>\n",
       "    <tr>\n",
       "      <th>3</th>\n",
       "      <td>כשהייתי ילד מטוסים היה הדבר שהכי ריתק אותי בתו...</td>\n",
       "      <td>1</td>\n",
       "    </tr>\n",
       "    <tr>\n",
       "      <th>4</th>\n",
       "      <td>הייתי מדריכה בכפר נוער ומתאם הכפר היינו צריכים...</td>\n",
       "      <td>0</td>\n",
       "    </tr>\n",
       "    <tr>\n",
       "      <th>...</th>\n",
       "      <td>...</td>\n",
       "      <td>...</td>\n",
       "    </tr>\n",
       "    <tr>\n",
       "      <th>748</th>\n",
       "      <td>אז לפני שנה בדיוק טסתי לאמסטרדם עם שני חברים ט...</td>\n",
       "      <td>1</td>\n",
       "    </tr>\n",
       "    <tr>\n",
       "      <th>749</th>\n",
       "      <td>שבוע שעבר העליתי באופן ספונטני רעיון לנסוע עם ...</td>\n",
       "      <td>1</td>\n",
       "    </tr>\n",
       "    <tr>\n",
       "      <th>750</th>\n",
       "      <td>לפני חודש עברנו לדירה בבית שמש בעקבות משפחתי ה...</td>\n",
       "      <td>1</td>\n",
       "    </tr>\n",
       "    <tr>\n",
       "      <th>751</th>\n",
       "      <td>החוויה אותה ארצה לשתף התרחשה לפני כמה חודשים ז...</td>\n",
       "      <td>0</td>\n",
       "    </tr>\n",
       "    <tr>\n",
       "      <th>752</th>\n",
       "      <td>פעם כשהייתי בחו ל בקבולומביה כחלק מהטיול שלי ל...</td>\n",
       "      <td>1</td>\n",
       "    </tr>\n",
       "  </tbody>\n",
       "</table>\n",
       "<p>753 rows × 2 columns</p>\n",
       "</div>"
      ],
      "text/plain": [
       "                                                 story  gender\n",
       "0    כשחבר הזמין אותי לחול לא באמת חשבתי שזה יקרה פ...       1\n",
       "1    לפני שהתגייסתי לצבא עשיתי כל מני מיונים ליחידו...       1\n",
       "2    מאז שהתחילו הלימודים חלומו של כל סטודנט זה הפנ...       0\n",
       "3    כשהייתי ילד מטוסים היה הדבר שהכי ריתק אותי בתו...       1\n",
       "4    הייתי מדריכה בכפר נוער ומתאם הכפר היינו צריכים...       0\n",
       "..                                                 ...     ...\n",
       "748  אז לפני שנה בדיוק טסתי לאמסטרדם עם שני חברים ט...       1\n",
       "749  שבוע שעבר העליתי באופן ספונטני רעיון לנסוע עם ...       1\n",
       "750  לפני חודש עברנו לדירה בבית שמש בעקבות משפחתי ה...       1\n",
       "751  החוויה אותה ארצה לשתף התרחשה לפני כמה חודשים ז...       0\n",
       "752  פעם כשהייתי בחו ל בקבולומביה כחלק מהטיול שלי ל...       1\n",
       "\n",
       "[753 rows x 2 columns]"
      ]
     },
     "execution_count": 11,
     "metadata": {},
     "output_type": "execute_result"
    }
   ],
   "source": [
    "# מחיקת תווים מיוחדים \n",
    "df_train['story'] = df_train['story'].apply(lambda x: re.sub(r'[^\\u0590-\\u05FF\\s]', '', x))\n",
    "  \n",
    "df_train['gender'].replace('f',0,inplace=True)\n",
    "df_train['gender'].replace('m',1,inplace=True)\n",
    "\n",
    "df_test['story'] =df_test['story'].apply(lambda x: re.sub(r'[^\\u0590-\\u05FF\\s]', '', x))\n",
    "\n",
    "df_train"
   ]
  },
  {
   "cell_type": "code",
   "execution_count": 12,
   "metadata": {},
   "outputs": [],
   "source": [
    "def f1Avg(y_test, y_pred):\n",
    "    \n",
    "    conf_mat = metrics.confusion_matrix(y_test, y_pred) #\n",
    "\n",
    "    TP = conf_mat[0][0]\n",
    "    FP = conf_mat[0][1]\n",
    "    FN = conf_mat[1][0]\n",
    "    TN = conf_mat[1][1]\n",
    "    precision_m = TN / (TN + FN)\n",
    "    recall_m = TN / (TN + FP)\n",
    "    precision_f = TP / (TP + FP)\n",
    "    recall_f = TP / (TP + FN)\n",
    "\n",
    "\n",
    "    F1_f = 2 * (precision_f * recall_f) / (precision_f + recall_f)\n",
    "    F1_m = 2 * (precision_m * recall_m) / (precision_m + recall_m)\n",
    "\n",
    "    F1_avg = (F1_f + F1_m) / 2\n",
    "    \n",
    "    return F1_avg,F1_m,F1_f\n"
   ]
  },
  {
   "cell_type": "code",
   "execution_count": 13,
   "metadata": {},
   "outputs": [],
   "source": [
    "X=df_train['story']\n",
    "y=df_train['gender']"
   ]
  },
  {
   "cell_type": "code",
   "execution_count": 14,
   "metadata": {},
   "outputs": [],
   "source": [
    "# Split data into training and testing sets\n",
    "X_train, X_test, y_train, y_test = train_test_split(df_train['story'],df_train['gender'], test_size=0.2, random_state=42)"
   ]
  },
  {
   "cell_type": "code",
   "execution_count": 15,
   "metadata": {},
   "outputs": [],
   "source": [
    "# define the vectorizers\n",
    "vectorizers = [CountVectorizer(), TfidfVectorizer()]"
   ]
  },
  {
   "cell_type": "code",
   "execution_count": 16,
   "metadata": {},
   "outputs": [],
   "source": [
    "# Define the models and parameters\n",
    "models = [\n",
    "    # LinearSVC\n",
    "    [LinearSVC(),\n",
    "     {'clf__C': [0.01, 0.1, 1, 10, 100], 'clf__penalty': ['l1', 'l2'], 'clf__class_weight': [None, 'balanced']}],\n",
    "\n",
    "    # Perceptron\n",
    "    [Perceptron(),\n",
    "     {'clf__alpha': [0.0001, 0.001, 0.01, 0.1], 'clf__penalty': ['l2', 'l1', 'elasticnet'], 'clf__class_weight': [None, 'balanced']}],\n",
    "\n",
    "    # SGDClassifier\n",
    "    [SGDClassifier(),\n",
    "     {'clf__alpha': [0.001, 0.05, 0.1], 'clf__loss': ['hinge', 'squared_hinge'], 'clf__class_weight': [None, 'balanced']}],\n",
    "\n",
    "    # MultinomialNB\n",
    "    [MultinomialNB(),\n",
    "     {'clf__alpha': [0.1, 0.5, 1, 10]}],\n",
    "\n",
    "   # KNeighborsClassifier\n",
    "    [KNeighborsClassifier(),\n",
    "     {'clf__n_neighbors': [3, 5, 7, 9], 'clf__weights': ['uniform', 'distance']}],\n",
    "\n",
    "    # DecisionTreeClassifier\n",
    "    [DecisionTreeClassifier(),\n",
    "     {'clf__max_depth': [5, 10, 20, None], 'clf__min_samples_split': [2, 5, 10], 'clf__min_samples_leaf': [1, 2, 4],\n",
    "      'clf__class_weight': [None, {0: 1, 1: 10}]}]\n",
    "]\n"
   ]
  },
  {
   "cell_type": "code",
   "execution_count": 32,
   "metadata": {},
   "outputs": [],
   "source": [
    "def plot_confusion_matrix(clf_name, vect_name, y_test, y_pred, ax=None):\n",
    "    cm = confusion_matrix(y_test, y_pred)\n",
    "    \n",
    "    if ax is None:\n",
    "        fig, ax = plt.subplots()\n",
    "    \n",
    "    sns.heatmap(cm, annot=True, cmap='Blues', fmt='g', ax=ax)\n",
    "    ax.set_title(f'Confusion Matrix - {clf_name} with {vect_name.__class__.__name__}')\n",
    "    ax.set_xlabel('Predicted Label')\n",
    "    ax.set_ylabel('True Label')\n",
    "    \n",
    "    if ax is None:\n",
    "        plt.show()"
   ]
  },
  {
   "cell_type": "code",
   "execution_count": 18,
   "metadata": {},
   "outputs": [],
   "source": [
    "def convert(best_params):\n",
    "    # Create a new dictionary to store the modified parameters\n",
    "    new_params = {}\n",
    "    # Iterate through the keys and values of the best_params dictionary\n",
    "    for key, value in best_params.items():\n",
    "        # Check if the key starts with 'clf__' (i.e., belongs to the classifier)\n",
    "        if key.startswith('clf__'):\n",
    "            # Remove the 'clf__' prefix and add the key-value pair to the new dictionary\n",
    "            new_params[key[5:]] = value\n",
    "        else:\n",
    "            # Add the key-value pair to the new dictionary as is\n",
    "            new_params[key] = value\n",
    "    # Return the modified dictionary of parameters\n",
    "    return new_params\n"
   ]
  },
  {
   "cell_type": "markdown",
   "metadata": {},
   "source": [
    "\n",
    "# Use GridSearchCV to find the best parameters for each classifier\n"
   ]
  },
  {
   "cell_type": "code",
   "execution_count": 28,
   "metadata": {},
   "outputs": [],
   "source": [
    "def evaluate_model(model, parameters, vectorizer,df):\n",
    "    # Define pipeline\n",
    "    pipeline = Pipeline([\n",
    "        ('vect', vectorizer),\n",
    "        ('clf', model)\n",
    "    ])\n",
    "\n",
    "    # Define parameter grid\n",
    "    param_grid = {\n",
    "          'vect__max_features': [10_000, 30_000, 40_000],\n",
    "            'vect__ngram_range': [(1, 1), (1, 2), (1, 3)],\n",
    "            'vect__min_df': [1, 3],\n",
    "            'vect__max_df': [0.7, 0.9],\n",
    "            **parameters\n",
    "    }\n",
    "\n",
    "    # Perform grid search\n",
    "    grid_search = GridSearchCV(pipeline, param_grid, scoring='f1_macro', cv=10, n_jobs=-1)\n",
    "    grid_search.fit(X_train, y_train)\n",
    "\n",
    "    # Get best model\n",
    "    best_model = grid_search.best_estimator_\n",
    "    best_score=grid_search.best_score_\n",
    "\n",
    "    # Predict and calculate scores\n",
    "    y_pred = best_model.predict(X_test)\n",
    "    clf_name = model.__class__.__name__\n",
    "    F1_avg, F1_m, F1_f = f1Avg(y_test, y_pred)\n",
    "    best_score_rounded = round(best_score,2)\n",
    "    df=df.append(pd.DataFrame({\n",
    "            'Classifier':clf.__class__.__name__,\n",
    "            'vectorizer': vectorizer.__class__.__name__,\n",
    "            'Best Parameters': [convert(grid_search.best_params_)],\n",
    "            'F1_avg': F1_avg,\n",
    "            'F1_m': F1_m,\n",
    "            'F1_f': F1_f,\n",
    "            'Cross-validation scores':best_score_rounded,\n",
    "        }))\n",
    "\n",
    "    # Print confusion matrix\n",
    "    print(f\"Confusion Matrix - {clf_name} ({vectorizer.__class__.__name__})\")\n",
    "    print(f'cross-validation score: {best_score_rounded}')\n",
    "    plot_confusion_matrix(clf_name, vectorizer, y_test, y_pred)\n",
    "    plt.show()\n",
    "    \n",
    "\n",
    "    return best_model,df\n",
    "\n"
   ]
  },
  {
   "cell_type": "code",
   "execution_count": 29,
   "metadata": {},
   "outputs": [],
   "source": [
    "results=pd.DataFrame()"
   ]
  },
  {
   "cell_type": "markdown",
   "metadata": {},
   "source": [
    "# LinearSVC"
   ]
  },
  {
   "cell_type": "code",
   "execution_count": 33,
   "metadata": {},
   "outputs": [
    {
     "name": "stdout",
     "output_type": "stream",
     "text": [
      "Confusion Matrix - LinearSVC (CountVectorizer)\n",
      "cross-validation score: 0.67\n"
     ]
    },
    {
     "data": {
      "image/png": "[encoded data removed]",
      "text/plain": [
       "<Figure size 432x288 with 2 Axes>"
      ]
     },
     "metadata": {
      "needs_background": "light"
     },
     "output_type": "display_data"
    }
   ],
   "source": [
    "clf=models[0][0]\n",
    "vect=vectorizers[0]\n",
    "best_model_1,results=evaluate_model(clf,models[0][1],vect,results)"
   ]
  },
  {
   "cell_type": "code",
   "execution_count": 34,
   "metadata": {},
   "outputs": [
    {
     "name": "stdout",
     "output_type": "stream",
     "text": [
      "Confusion Matrix - LinearSVC (TfidfVectorizer)\n",
      "cross-validation score: 0.69\n"
     ]
    },
    {
     "data": {
      "image/png": "[encoded data removed]",
      "text/plain": [
       "<Figure size 432x288 with 2 Axes>"
      ]
     },
     "metadata": {
      "needs_background": "light"
     },
     "output_type": "display_data"
    }
   ],
   "source": [
    "vect=vectorizers[1]\n",
    "best_model_2,results=evaluate_model(clf,models[0][1],vect,results)"
   ]
  },
  {
   "cell_type": "markdown",
   "metadata": {},
   "source": [
    "# Perceptron "
   ]
  },
  {
   "cell_type": "code",
   "execution_count": 35,
   "metadata": {},
   "outputs": [
    {
     "name": "stdout",
     "output_type": "stream",
     "text": [
      "Confusion Matrix - Perceptron (CountVectorizer)\n",
      "cross-validation score: 0.67\n"
     ]
    },
    {
     "data": {
      "image/png": "[encoded data removed]",
      "text/plain": [
       "<Figure size 432x288 with 2 Axes>"
      ]
     },
     "metadata": {
      "needs_background": "light"
     },
     "output_type": "display_data"
    },
    {
     "name": "stdout",
     "output_type": "stream",
     "text": [
      "Confusion Matrix - Perceptron (TfidfVectorizer)\n",
      "cross-validation score: 0.69\n"
     ]
    },
    {
     "data": {
      "image/png": "[encoded data removed]",
      "text/plain": [
       "<Figure size 432x288 with 2 Axes>"
      ]
     },
     "metadata": {
      "needs_background": "light"
     },
     "output_type": "display_data"
    }
   ],
   "source": [
    "clf=models[1][0]\n",
    "vect=vectorizers[0]\n",
    "best_model_3,results=evaluate_model(clf,models[1][1],vect,results)\n",
    "\n",
    "vect=vectorizers[1]\n",
    "best_model_4,results=evaluate_model(clf,models[1][1],vect,results)"
   ]
  },
  {
   "cell_type": "markdown",
   "metadata": {},
   "source": [
    "# SGDClassifier"
   ]
  },
  {
   "cell_type": "code",
   "execution_count": 36,
   "metadata": {},
   "outputs": [
    {
     "name": "stdout",
     "output_type": "stream",
     "text": [
      "Confusion Matrix - SGDClassifier (CountVectorizer)\n",
      "cross-validation score: 0.68\n"
     ]
    },
    {
     "data": {
      "image/png": "[encoded data removed]",
      "text/plain": [
       "<Figure size 432x288 with 2 Axes>"
      ]
     },
     "metadata": {
      "needs_background": "light"
     },
     "output_type": "display_data"
    },
    {
     "name": "stdout",
     "output_type": "stream",
     "text": [
      "Confusion Matrix - SGDClassifier (TfidfVectorizer)\n",
      "cross-validation score: 0.7\n"
     ]
    },
    {
     "data": {
      "image/png": "[encoded data removed]",
      "text/plain": [
       "<Figure size 432x288 with 2 Axes>"
      ]
     },
     "metadata": {
      "needs_background": "light"
     },
     "output_type": "display_data"
    }
   ],
   "source": [
    "clf=models[2][0]\n",
    "vect=vectorizers[0]\n",
    "best_model_5,results=evaluate_model(clf,models[2][1], vect,results)\n",
    "\n",
    "vect=vectorizers[1]\n",
    "best_model_6,results=evaluate_model(clf,models[2][1],vect,results)"
   ]
  },
  {
   "cell_type": "markdown",
   "metadata": {},
   "source": [
    "# MultinomialNB"
   ]
  },
  {
   "cell_type": "code",
   "execution_count": 37,
   "metadata": {},
   "outputs": [
    {
     "name": "stdout",
     "output_type": "stream",
     "text": [
      "Confusion Matrix - MultinomialNB (CountVectorizer)\n",
      "cross-validation score: 0.64\n"
     ]
    },
    {
     "data": {
      "image/png": "[encoded data removed]",
      "text/plain": [
       "<Figure size 432x288 with 2 Axes>"
      ]
     },
     "metadata": {
      "needs_background": "light"
     },
     "output_type": "display_data"
    },
    {
     "name": "stdout",
     "output_type": "stream",
     "text": [
      "Confusion Matrix - MultinomialNB (TfidfVectorizer)\n",
      "cross-validation score: 0.49\n"
     ]
    },
    {
     "data": {
      "image/png": "[encoded data removed]",
      "text/plain": [
       "<Figure size 432x288 with 2 Axes>"
      ]
     },
     "metadata": {
      "needs_background": "light"
     },
     "output_type": "display_data"
    }
   ],
   "source": [
    "clf=models[3][0]\n",
    "vect=vectorizers[0]\n",
    "best_model_7,results=evaluate_model(clf,models[3][1], vect,results)\n",
    "\n",
    "vect=vectorizers[1]\n",
    "best_model_8,results=evaluate_model(clf,models[3][1],vect,results)"
   ]
  },
  {
   "cell_type": "markdown",
   "metadata": {},
   "source": [
    "# KNeighborsClassifier"
   ]
  },
  {
   "cell_type": "code",
   "execution_count": 38,
   "metadata": {},
   "outputs": [
    {
     "name": "stdout",
     "output_type": "stream",
     "text": [
      "Confusion Matrix - KNeighborsClassifier (CountVectorizer)\n",
      "cross-validation score: 0.55\n"
     ]
    },
    {
     "data": {
      "image/png": "[encoded data removed]",
      "text/plain": [
       "<Figure size 432x288 with 2 Axes>"
      ]
     },
     "metadata": {
      "needs_background": "light"
     },
     "output_type": "display_data"
    },
    {
     "name": "stdout",
     "output_type": "stream",
     "text": [
      "Confusion Matrix - KNeighborsClassifier (TfidfVectorizer)\n",
      "cross-validation score: 0.63\n"
     ]
    },
    {
     "data": {
      "image/png": "[encoded data removed]",
      "text/plain": [
       "<Figure size 432x288 with 2 Axes>"
      ]
     },
     "metadata": {
      "needs_background": "light"
     },
     "output_type": "display_data"
    }
   ],
   "source": [
    "clf=models[4][0]\n",
    "vect=vectorizers[0]\n",
    "best_model_9,results=evaluate_model(clf,models[4][1], vect,results)\n",
    "\n",
    "vect=vectorizers[1]\n",
    "best_model_10,results=evaluate_model(clf,models[4][1],vect,results)"
   ]
  },
  {
   "cell_type": "markdown",
   "metadata": {},
   "source": [
    "# DecisionTreeClassifier"
   ]
  },
  {
   "cell_type": "code",
   "execution_count": 39,
   "metadata": {},
   "outputs": [
    {
     "name": "stdout",
     "output_type": "stream",
     "text": [
      "Confusion Matrix - DecisionTreeClassifier (CountVectorizer)\n",
      "cross-validation score: 0.7\n"
     ]
    },
    {
     "data": {
      "image/png": "[encoded data removed]",
      "text/plain": [
       "<Figure size 432x288 with 2 Axes>"
      ]
     },
     "metadata": {
      "needs_background": "light"
     },
     "output_type": "display_data"
    },
    {
     "name": "stdout",
     "output_type": "stream",
     "text": [
      "Confusion Matrix - DecisionTreeClassifier (TfidfVectorizer)\n",
      "cross-validation score: 0.67\n"
     ]
    },
    {
     "data": {
      "image/png": "[encoded data removed]",
      "text/plain": [
       "<Figure size 432x288 with 2 Axes>"
      ]
     },
     "metadata": {
      "needs_background": "light"
     },
     "output_type": "display_data"
    }
   ],
   "source": [
    "clf=models[5][0]\n",
    "vect=vectorizers[0]\n",
    "best_model_11,results=evaluate_model(clf,models[5][1], vect,results)\n",
    "\n",
    "vect=vectorizers[1]\n",
    "best_model_12,results=evaluate_model(clf,models[5][1],vect,results)"
   ]
  },
  {
   "cell_type": "code",
   "execution_count": 40,
   "metadata": {},
   "outputs": [
    {
     "data": {
      "text/html": [
       "<div>\n",
       "<style scoped>\n",
       "    .dataframe tbody tr th:only-of-type {\n",
       "        vertical-align: middle;\n",
       "    }\n",
       "\n",
       "    .dataframe tbody tr th {\n",
       "        vertical-align: top;\n",
       "    }\n",
       "\n",
       "    .dataframe thead th {\n",
       "        text-align: right;\n",
       "    }\n",
       "</style>\n",
       "<table border=\"1\" class=\"dataframe\">\n",
       "  <thead>\n",
       "    <tr style=\"text-align: right;\">\n",
       "      <th></th>\n",
       "      <th>Classifier</th>\n",
       "      <th>vectorizer</th>\n",
       "      <th>Best Parameters</th>\n",
       "      <th>F1_avg</th>\n",
       "      <th>F1_m</th>\n",
       "      <th>F1_f</th>\n",
       "      <th>Cross-validation scores</th>\n",
       "    </tr>\n",
       "  </thead>\n",
       "  <tbody>\n",
       "    <tr>\n",
       "      <th>0</th>\n",
       "      <td>LinearSVC</td>\n",
       "      <td>CountVectorizer</td>\n",
       "      <td>{'C': 0.01, 'class_weight': 'balanced', 'penal...</td>\n",
       "      <td>0.693</td>\n",
       "      <td>0.886</td>\n",
       "      <td>0.500</td>\n",
       "      <td>0.670</td>\n",
       "    </tr>\n",
       "    <tr>\n",
       "      <th>0</th>\n",
       "      <td>LinearSVC</td>\n",
       "      <td>TfidfVectorizer</td>\n",
       "      <td>{'C': 0.01, 'class_weight': 'balanced', 'penal...</td>\n",
       "      <td>0.729</td>\n",
       "      <td>0.881</td>\n",
       "      <td>0.576</td>\n",
       "      <td>0.690</td>\n",
       "    </tr>\n",
       "    <tr>\n",
       "      <th>0</th>\n",
       "      <td>Perceptron</td>\n",
       "      <td>CountVectorizer</td>\n",
       "      <td>{'alpha': 0.0001, 'class_weight': 'balanced', ...</td>\n",
       "      <td>0.639</td>\n",
       "      <td>0.871</td>\n",
       "      <td>0.407</td>\n",
       "      <td>0.670</td>\n",
       "    </tr>\n",
       "    <tr>\n",
       "      <th>0</th>\n",
       "      <td>Perceptron</td>\n",
       "      <td>TfidfVectorizer</td>\n",
       "      <td>{'alpha': 0.0001, 'class_weight': None, 'penal...</td>\n",
       "      <td>0.709</td>\n",
       "      <td>0.884</td>\n",
       "      <td>0.533</td>\n",
       "      <td>0.690</td>\n",
       "    </tr>\n",
       "    <tr>\n",
       "      <th>0</th>\n",
       "      <td>SGDClassifier</td>\n",
       "      <td>CountVectorizer</td>\n",
       "      <td>{'alpha': 0.001, 'class_weight': 'balanced', '...</td>\n",
       "      <td>0.627</td>\n",
       "      <td>0.862</td>\n",
       "      <td>0.393</td>\n",
       "      <td>0.680</td>\n",
       "    </tr>\n",
       "    <tr>\n",
       "      <th>0</th>\n",
       "      <td>SGDClassifier</td>\n",
       "      <td>TfidfVectorizer</td>\n",
       "      <td>{'alpha': 0.1, 'class_weight': 'balanced', 'lo...</td>\n",
       "      <td>0.664</td>\n",
       "      <td>0.786</td>\n",
       "      <td>0.542</td>\n",
       "      <td>0.700</td>\n",
       "    </tr>\n",
       "    <tr>\n",
       "      <th>0</th>\n",
       "      <td>MultinomialNB</td>\n",
       "      <td>CountVectorizer</td>\n",
       "      <td>{'alpha': 0.5, 'vect__max_df': 0.9, 'vect__max...</td>\n",
       "      <td>0.722</td>\n",
       "      <td>0.899</td>\n",
       "      <td>0.545</td>\n",
       "      <td>0.640</td>\n",
       "    </tr>\n",
       "    <tr>\n",
       "      <th>0</th>\n",
       "      <td>MultinomialNB</td>\n",
       "      <td>TfidfVectorizer</td>\n",
       "      <td>{'alpha': 0.1, 'vect__max_df': 0.7, 'vect__max...</td>\n",
       "      <td>0.458</td>\n",
       "      <td>0.864</td>\n",
       "      <td>0.053</td>\n",
       "      <td>0.490</td>\n",
       "    </tr>\n",
       "    <tr>\n",
       "      <th>0</th>\n",
       "      <td>KNeighborsClassifier</td>\n",
       "      <td>CountVectorizer</td>\n",
       "      <td>{'n_neighbors': 3, 'weights': 'distance', 'vec...</td>\n",
       "      <td>0.476</td>\n",
       "      <td>0.830</td>\n",
       "      <td>0.122</td>\n",
       "      <td>0.550</td>\n",
       "    </tr>\n",
       "    <tr>\n",
       "      <th>0</th>\n",
       "      <td>KNeighborsClassifier</td>\n",
       "      <td>TfidfVectorizer</td>\n",
       "      <td>{'n_neighbors': 3, 'weights': 'uniform', 'vect...</td>\n",
       "      <td>0.591</td>\n",
       "      <td>0.810</td>\n",
       "      <td>0.371</td>\n",
       "      <td>0.630</td>\n",
       "    </tr>\n",
       "    <tr>\n",
       "      <th>0</th>\n",
       "      <td>DecisionTreeClassifier</td>\n",
       "      <td>CountVectorizer</td>\n",
       "      <td>{'class_weight': {0: 1, 1: 10}, 'max_depth': N...</td>\n",
       "      <td>0.649</td>\n",
       "      <td>0.870</td>\n",
       "      <td>0.429</td>\n",
       "      <td>0.700</td>\n",
       "    </tr>\n",
       "    <tr>\n",
       "      <th>0</th>\n",
       "      <td>DecisionTreeClassifier</td>\n",
       "      <td>TfidfVectorizer</td>\n",
       "      <td>{'class_weight': None, 'max_depth': 10, 'min_s...</td>\n",
       "      <td>0.626</td>\n",
       "      <td>0.834</td>\n",
       "      <td>0.418</td>\n",
       "      <td>0.670</td>\n",
       "    </tr>\n",
       "  </tbody>\n",
       "</table>\n",
       "</div>"
      ],
      "text/plain": [
       "               Classifier       vectorizer  \\\n",
       "0               LinearSVC  CountVectorizer   \n",
       "0               LinearSVC  TfidfVectorizer   \n",
       "0              Perceptron  CountVectorizer   \n",
       "0              Perceptron  TfidfVectorizer   \n",
       "0           SGDClassifier  CountVectorizer   \n",
       "0           SGDClassifier  TfidfVectorizer   \n",
       "0           MultinomialNB  CountVectorizer   \n",
       "0           MultinomialNB  TfidfVectorizer   \n",
       "0    KNeighborsClassifier  CountVectorizer   \n",
       "0    KNeighborsClassifier  TfidfVectorizer   \n",
       "0  DecisionTreeClassifier  CountVectorizer   \n",
       "0  DecisionTreeClassifier  TfidfVectorizer   \n",
       "\n",
       "                                     Best Parameters  F1_avg  F1_m  F1_f  \\\n",
       "0  {'C': 0.01, 'class_weight': 'balanced', 'penal...   0.693 0.886 0.500   \n",
       "0  {'C': 0.01, 'class_weight': 'balanced', 'penal...   0.729 0.881 0.576   \n",
       "0  {'alpha': 0.0001, 'class_weight': 'balanced', ...   0.639 0.871 0.407   \n",
       "0  {'alpha': 0.0001, 'class_weight': None, 'penal...   0.709 0.884 0.533   \n",
       "0  {'alpha': 0.001, 'class_weight': 'balanced', '...   0.627 0.862 0.393   \n",
       "0  {'alpha': 0.1, 'class_weight': 'balanced', 'lo...   0.664 0.786 0.542   \n",
       "0  {'alpha': 0.5, 'vect__max_df': 0.9, 'vect__max...   0.722 0.899 0.545   \n",
       "0  {'alpha': 0.1, 'vect__max_df': 0.7, 'vect__max...   0.458 0.864 0.053   \n",
       "0  {'n_neighbors': 3, 'weights': 'distance', 'vec...   0.476 0.830 0.122   \n",
       "0  {'n_neighbors': 3, 'weights': 'uniform', 'vect...   0.591 0.810 0.371   \n",
       "0  {'class_weight': {0: 1, 1: 10}, 'max_depth': N...   0.649 0.870 0.429   \n",
       "0  {'class_weight': None, 'max_depth': 10, 'min_s...   0.626 0.834 0.418   \n",
       "\n",
       "   Cross-validation scores  \n",
       "0                    0.670  \n",
       "0                    0.690  \n",
       "0                    0.670  \n",
       "0                    0.690  \n",
       "0                    0.680  \n",
       "0                    0.700  \n",
       "0                    0.640  \n",
       "0                    0.490  \n",
       "0                    0.550  \n",
       "0                    0.630  \n",
       "0                    0.700  \n",
       "0                    0.670  "
      ]
     },
     "execution_count": 40,
     "metadata": {},
     "output_type": "execute_result"
    }
   ],
   "source": [
    "results"
   ]
  },
  {
   "cell_type": "code",
   "execution_count": 62,
   "metadata": {},
   "outputs": [
    {
     "data": {
      "text/plain": [
       "Pipeline(steps=[('vect',\n",
       "                 TfidfVectorizer(max_df=0.9, max_features=30000, min_df=3,\n",
       "                                 ngram_range=(1, 2))),\n",
       "                ('clf', LinearSVC(C=0.01, class_weight='balanced'))])"
      ]
     },
     "execution_count": 62,
     "metadata": {},
     "output_type": "execute_result"
    }
   ],
   "source": [
    "best_model_2\n"
   ]
  },
  {
   "cell_type": "markdown",
   "metadata": {},
   "source": [
    "# result"
   ]
  },
  {
   "cell_type": "markdown",
   "metadata": {},
   "source": [
    "# best model\n",
    "## LinearSVC   \n",
    "### The model was built using the following parameters:\n",
    "\n",
    "### TfidfVectorizer with the following settings:\n",
    "\n",
    "* max_df: 0.9\n",
    "* max_features: 30000\n",
    "* min_df: 3\n",
    "* ngram_range: (1, 2)\n",
    "\n",
    "### LinearSVC classifier with the following settings:\n",
    "\n",
    "* C: 0.01\n",
    "* class_weight: 'balanced'\n",
    "\n",
    "#### These parameter choices allow for an improved representation of the text by focusing on important words and assigning higher value to words that appear in the current document and in other documents in the corpus."
   ]
  },
  {
   "cell_type": "markdown",
   "metadata": {},
   "source": [
    "## The model's performance on the test set is as follows:\n",
    "\n",
    "* Cross-validation score: 0.70\n",
    "* Average F1-score: 0.73\n",
    "* F1-score for the male class: 0.88\n",
    "* F1-score for the female class: 0.58\n",
    "* The precision and recall scores for each class are as follows:\n",
    "\n",
    "* Precision for the male class: 0.9123\n",
    "* Recall for the male class: 0.8525\n",
    "* Precision for the female class: 0.5135\n",
    "* Recall for the female class: 0.6552\n",
    "\n",
    "### These results demonstrate that the model has a reasonably good overall performance, with a higher F1-score for the male class compared to the female class. However, the model's performance on the female class could be improved. It is important to note that the class imbalance in the dataset, with more instances of the female class, might be affecting the model's performance.\n",
    "\n",
    "##### Further analysis and iterations are recommended to fine-tune the model and address the class imbalance issue in order to achieve better results."
   ]
  },
  {
   "cell_type": "code",
   "execution_count": 46,
   "metadata": {},
   "outputs": [
    {
     "data": {
      "text/html": [
       "<div>\n",
       "<style scoped>\n",
       "    .dataframe tbody tr th:only-of-type {\n",
       "        vertical-align: middle;\n",
       "    }\n",
       "\n",
       "    .dataframe tbody tr th {\n",
       "        vertical-align: top;\n",
       "    }\n",
       "\n",
       "    .dataframe thead th {\n",
       "        text-align: right;\n",
       "    }\n",
       "</style>\n",
       "<table border=\"1\" class=\"dataframe\">\n",
       "  <thead>\n",
       "    <tr style=\"text-align: right;\">\n",
       "      <th></th>\n",
       "      <th>test_example_id</th>\n",
       "      <th>story</th>\n",
       "      <th>gender</th>\n",
       "    </tr>\n",
       "  </thead>\n",
       "  <tbody>\n",
       "    <tr>\n",
       "      <th>0</th>\n",
       "      <td>0</td>\n",
       "      <td>כל קיץ אני והמשפחה נוסעים לארצות הברית לוס אנג...</td>\n",
       "      <td>m</td>\n",
       "    </tr>\n",
       "    <tr>\n",
       "      <th>1</th>\n",
       "      <td>1</td>\n",
       "      <td>הגעתי לשירות המדינה אחרי שנתיים כפעיל בתנועת י...</td>\n",
       "      <td>m</td>\n",
       "    </tr>\n",
       "    <tr>\n",
       "      <th>2</th>\n",
       "      <td>2</td>\n",
       "      <td>אחת האהבות הגדולות שלי אלו הכלבים שלי ושל אישת...</td>\n",
       "      <td>m</td>\n",
       "    </tr>\n",
       "    <tr>\n",
       "      <th>3</th>\n",
       "      <td>3</td>\n",
       "      <td>רגע הגיוס לצבא היה הרגע הכי משמעותי עבורי אני ...</td>\n",
       "      <td>m</td>\n",
       "    </tr>\n",
       "    <tr>\n",
       "      <th>4</th>\n",
       "      <td>4</td>\n",
       "      <td>אני הגעתי לברזיל ישר מקולומביה וגם אני עשיתי ע...</td>\n",
       "      <td>f</td>\n",
       "    </tr>\n",
       "    <tr>\n",
       "      <th>...</th>\n",
       "      <td>...</td>\n",
       "      <td>...</td>\n",
       "      <td>...</td>\n",
       "    </tr>\n",
       "    <tr>\n",
       "      <th>318</th>\n",
       "      <td>318</td>\n",
       "      <td>בשנה האחרונה הרגשתי די תקוע בעבודה השגרה הפכה ...</td>\n",
       "      <td>m</td>\n",
       "    </tr>\n",
       "    <tr>\n",
       "      <th>319</th>\n",
       "      <td>319</td>\n",
       "      <td>אני ואילן חברים טובים מזה  שנה תמיד חלמנו לפתח...</td>\n",
       "      <td>m</td>\n",
       "    </tr>\n",
       "    <tr>\n",
       "      <th>320</th>\n",
       "      <td>320</td>\n",
       "      <td>מידי יום שישי אני נוהג לנסוע בתחבורה ציבורית ס...</td>\n",
       "      <td>m</td>\n",
       "    </tr>\n",
       "    <tr>\n",
       "      <th>321</th>\n",
       "      <td>321</td>\n",
       "      <td>לפני מספר חודשים בשיא התחלואה של הגל השני עמית...</td>\n",
       "      <td>m</td>\n",
       "    </tr>\n",
       "    <tr>\n",
       "      <th>322</th>\n",
       "      <td>322</td>\n",
       "      <td>היום בו דיווחתי על גניבה של האוטו שלי בוקר אחד...</td>\n",
       "      <td>m</td>\n",
       "    </tr>\n",
       "  </tbody>\n",
       "</table>\n",
       "<p>323 rows × 3 columns</p>\n",
       "</div>"
      ],
      "text/plain": [
       "     test_example_id                                              story gender\n",
       "0                  0  כל קיץ אני והמשפחה נוסעים לארצות הברית לוס אנג...      m\n",
       "1                  1  הגעתי לשירות המדינה אחרי שנתיים כפעיל בתנועת י...      m\n",
       "2                  2  אחת האהבות הגדולות שלי אלו הכלבים שלי ושל אישת...      m\n",
       "3                  3  רגע הגיוס לצבא היה הרגע הכי משמעותי עבורי אני ...      m\n",
       "4                  4  אני הגעתי לברזיל ישר מקולומביה וגם אני עשיתי ע...      f\n",
       "..               ...                                                ...    ...\n",
       "318              318  בשנה האחרונה הרגשתי די תקוע בעבודה השגרה הפכה ...      m\n",
       "319              319  אני ואילן חברים טובים מזה  שנה תמיד חלמנו לפתח...      m\n",
       "320              320  מידי יום שישי אני נוהג לנסוע בתחבורה ציבורית ס...      m\n",
       "321              321  לפני מספר חודשים בשיא התחלואה של הגל השני עמית...      m\n",
       "322              322  היום בו דיווחתי על גניבה של האוטו שלי בוקר אחד...      m\n",
       "\n",
       "[323 rows x 3 columns]"
      ]
     },
     "execution_count": 46,
     "metadata": {},
     "output_type": "execute_result"
    }
   ],
   "source": [
    "df_test_tokenized = df_test.copy()\n",
    "y_predict_test=best_model_2.predict(df_test_tokenized['story'])\n",
    "df_test['gender']=y_predict_test\n",
    "df_test['gender'].replace(0,'f',inplace=True)\n",
    "df_test['gender'].replace(1,'m',inplace=True)\n",
    "df_test"
   ]
  },
  {
   "cell_type": "code",
   "execution_count": 47,
   "metadata": {},
   "outputs": [],
   "source": [
    "df_predicted=df_test.copy()"
   ]
  },
  {
   "cell_type": "markdown",
   "metadata": {},
   "source": [
    "### Save output to csv (optional)\n",
    "After you're done save your output to the 'classification_results.csv' csv file.<br/>\n",
    "We assume that the dataframe with your results contain the following columns:\n",
    "* column 1 (left column): 'test_example_id'  - the same id associated to each of the test stories to be predicted.\n",
    "* column 2 (right column): 'predicted_category' - the predicted gender value for each of the associated story. \n",
    "\n",
    "Assuming your predicted values are in the `df_predicted` dataframe, you should save you're results as following:"
   ]
  },
  {
   "cell_type": "code",
   "execution_count": 48,
   "metadata": {},
   "outputs": [],
   "source": [
    "df_predicted.to_csv('classification_results.csv',index=False)"
   ]
  }
 ],
 "metadata": {
  "celltoolbar": "Create Assignment",
  "kernelspec": {
   "display_name": "Python 3 (ipykernel)",
   "language": "python",
   "name": "python3"
  },
  "language_info": {
   "codemirror_mode": {
    "name": "ipython",
    "version": 3
   },
   "file_extension": ".py",
   "mimetype": "text/x-python",
   "name": "python",
   "nbconvert_exporter": "python",
   "pygments_lexer": "ipython3",
   "version": "3.9.12"
  }
 },
 "nbformat": 4,
 "nbformat_minor": 4
}
